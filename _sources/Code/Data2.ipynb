{
 "cells": [
  {
   "cell_type": "markdown",
   "id": "872f959b",
   "metadata": {},
   "source": [
    "# Using ROOT only\n",
    "\n",
    "If you know [ROOT](https://root.cern/), the framework developed by CERN for particle physics data analysis, you can use it to look directly at the data files. \n",
    "\n",
    "```{note}\n",
    "Ignore this if you do not know ROOT. For most purposes, you do not need to know ROOT in order to use `lartpc_mlreco3d`.\n",
    "```\n",
    "\n",
    "## In ROOT\n",
    "In the command line, you can open the file with `root -b -l larcv.root`. The option `-b` (batch mode) disables graphical usage and the option `-l` tells it to skip the ROOT banner. Now you can examine it interactively using the usual ROOT commands.\n",
    "\n",
    "The ROOT file contains several TTrees (which you can list with `.ls` in the prompt). There are three types of TTrees in our ROOT files. The type of object stored in these TTrees depends on their name:\n",
    "* `sparse3d_*` refers to a [larcv::EventSparseTensor3D](https://github.com/DeepLearnPhysics/larcv2/blob/develop/larcv/core/DataFormat/EventVoxel3D.h#L47).\n",
    "* `cluster3d_*` refers to a [larcv::EventClusterVoxel3D](https://github.com/DeepLearnPhysics/larcv2/blob/develop/larcv/core/DataFormat/EventVoxel3D.h#L27), a list of clusters of voxels.\n",
    "* `particle_*` refers to a [larcv::EventParticle](https://github.com/DeepLearnPhysics/larcv2/blob/develop/larcv/core/DataFormat/EventParticle.h#L26), a list of `larcv::Particle` objects.\n",
    "\n",
    "## In Python\n",
    "Another way is to use PyROOT, the Python interface for ROOT."
   ]
  },
  {
   "cell_type": "code",
   "execution_count": 1,
   "id": "457166b5",
   "metadata": {},
   "outputs": [
    {
     "ename": "ModuleNotFoundError",
     "evalue": "No module named 'ROOT'",
     "output_type": "error",
     "traceback": [
      "\u001b[0;31m---------------------------------------------------------------------------\u001b[0m",
      "\u001b[0;31mModuleNotFoundError\u001b[0m                       Traceback (most recent call last)",
      "\u001b[0;32m<ipython-input-1-6991e5ea28ea>\u001b[0m in \u001b[0;36m<module>\u001b[0;34m\u001b[0m\n\u001b[0;32m----> 1\u001b[0;31m \u001b[0;32mimport\u001b[0m \u001b[0mROOT\u001b[0m\u001b[0;34m\u001b[0m\u001b[0;34m\u001b[0m\u001b[0m\n\u001b[0m\u001b[1;32m      2\u001b[0m \u001b[0;32mfrom\u001b[0m \u001b[0mROOT\u001b[0m \u001b[0;32mimport\u001b[0m  \u001b[0mTFile\u001b[0m\u001b[0;34m,\u001b[0m \u001b[0mTChain\u001b[0m\u001b[0;34m\u001b[0m\u001b[0;34m\u001b[0m\u001b[0m\n",
      "\u001b[0;31mModuleNotFoundError\u001b[0m: No module named 'ROOT'"
     ]
    }
   ],
   "source": [
    "import ROOT\n",
    "from ROOT import  TFile, TChain"
   ]
  },
  {
   "cell_type": "markdown",
   "id": "b67a2a64",
   "metadata": {},
   "source": [
    "Now open the file using ROOT:"
   ]
  },
  {
   "cell_type": "code",
   "execution_count": 2,
   "id": "61120adb",
   "metadata": {},
   "outputs": [
    {
     "ename": "NameError",
     "evalue": "name 'TFile' is not defined",
     "output_type": "error",
     "traceback": [
      "\u001b[0;31m---------------------------------------------------------------------------\u001b[0m",
      "\u001b[0;31mNameError\u001b[0m                                 Traceback (most recent call last)",
      "\u001b[0;32m<ipython-input-2-e54947e82f09>\u001b[0m in \u001b[0;36m<module>\u001b[0;34m\u001b[0m\n\u001b[0;32m----> 1\u001b[0;31m \u001b[0mexample\u001b[0m \u001b[0;34m=\u001b[0m \u001b[0mTFile\u001b[0m\u001b[0;34m(\u001b[0m \u001b[0;34m'./wire_mpvmpr_2020_04_test_small.root'\u001b[0m \u001b[0;34m)\u001b[0m\u001b[0;34m\u001b[0m\u001b[0;34m\u001b[0m\u001b[0m\n\u001b[0m\u001b[1;32m      2\u001b[0m \u001b[0mexample\u001b[0m\u001b[0;34m.\u001b[0m\u001b[0mls\u001b[0m\u001b[0;34m(\u001b[0m\u001b[0;34m)\u001b[0m\u001b[0;34m\u001b[0m\u001b[0;34m\u001b[0m\u001b[0m\n",
      "\u001b[0;31mNameError\u001b[0m: name 'TFile' is not defined"
     ]
    }
   ],
   "source": [
    "example = TFile( './wire_mpvmpr_2020_04_test_small.root' )\n",
    "example.ls()"
   ]
  },
  {
   "cell_type": "markdown",
   "id": "30f48453",
   "metadata": {},
   "source": [
    "You can then manually browse the file. For example, if you wanted to look at the tree `cluster3d_sed_tree`, see how many clusters are there and what is the size of each cluster:"
   ]
  },
  {
   "cell_type": "code",
   "execution_count": 3,
   "id": "783c75e3",
   "metadata": {},
   "outputs": [
    {
     "ename": "NameError",
     "evalue": "name 'example' is not defined",
     "output_type": "error",
     "traceback": [
      "\u001b[0;31m---------------------------------------------------------------------------\u001b[0m",
      "\u001b[0;31mNameError\u001b[0m                                 Traceback (most recent call last)",
      "\u001b[0;32m<ipython-input-3-06ecc3d02136>\u001b[0m in \u001b[0;36m<module>\u001b[0;34m\u001b[0m\n\u001b[0;32m----> 1\u001b[0;31m \u001b[0mtree\u001b[0m \u001b[0;34m=\u001b[0m \u001b[0mexample\u001b[0m\u001b[0;34m.\u001b[0m\u001b[0mGet\u001b[0m\u001b[0;34m(\u001b[0m\u001b[0;34m\"cluster3d_sed_tree\"\u001b[0m\u001b[0;34m)\u001b[0m\u001b[0;34m\u001b[0m\u001b[0;34m\u001b[0m\u001b[0m\n\u001b[0m\u001b[1;32m      2\u001b[0m \u001b[0;34m\u001b[0m\u001b[0m\n\u001b[1;32m      3\u001b[0m \u001b[0;32mfor\u001b[0m \u001b[0mentry\u001b[0m \u001b[0;32min\u001b[0m \u001b[0mrange\u001b[0m\u001b[0;34m(\u001b[0m\u001b[0mtree\u001b[0m\u001b[0;34m.\u001b[0m\u001b[0mGetEntries\u001b[0m\u001b[0;34m(\u001b[0m\u001b[0;34m)\u001b[0m\u001b[0;34m)\u001b[0m\u001b[0;34m:\u001b[0m\u001b[0;34m\u001b[0m\u001b[0;34m\u001b[0m\u001b[0m\n\u001b[1;32m      4\u001b[0m     \u001b[0mtree\u001b[0m\u001b[0;34m.\u001b[0m\u001b[0mGetEntry\u001b[0m\u001b[0;34m(\u001b[0m\u001b[0mentry\u001b[0m\u001b[0;34m)\u001b[0m\u001b[0;34m\u001b[0m\u001b[0;34m\u001b[0m\u001b[0m\n\u001b[1;32m      5\u001b[0m     \u001b[0mevent\u001b[0m \u001b[0;34m=\u001b[0m \u001b[0mtree\u001b[0m\u001b[0;34m.\u001b[0m\u001b[0mcluster3d_sed_branch\u001b[0m\u001b[0;34m\u001b[0m\u001b[0;34m\u001b[0m\u001b[0m\n",
      "\u001b[0;31mNameError\u001b[0m: name 'example' is not defined"
     ]
    }
   ],
   "source": [
    "tree = example.Get(\"cluster3d_sed_tree\")\n",
    "\n",
    "for entry in range(tree.GetEntries()):\n",
    "    tree.GetEntry(entry)\n",
    "    event = tree.cluster3d_sed_branch\n",
    "    clusters = event.as_vector()\n",
    "    print(\"Number of clusters = \", len(clusters))\n",
    "    for c in clusters:\n",
    "        clust = c.as_vector()\n",
    "        print(\"\\t\", clust.size())"
   ]
  },
  {
   "cell_type": "markdown",
   "id": "647b1ef1",
   "metadata": {},
   "source": [
    " * [PyROOT - Getting started](https://root.cern/manual/python/#getting-started)\n",
    " \n",
    " ## Using LArCV to retrieve the image and visualize\n",
    " \n",
    " ```{note} TODO\n",
    " Coming soon\n",
    " ```"
   ]
  }
 ],
 "metadata": {
  "jupytext": {
   "cell_metadata_filter": "-all",
   "formats": "md:myst",
   "text_representation": {
    "extension": ".md",
    "format_name": "myst",
    "format_version": 0.13,
    "jupytext_version": "1.10.3"
   }
  },
  "kernelspec": {
   "display_name": "Python 3",
   "language": "python",
   "name": "python3"
  },
  "language_info": {
   "codemirror_mode": {
    "name": "ipython",
    "version": 3
   },
   "file_extension": ".py",
   "mimetype": "text/x-python",
   "name": "python",
   "nbconvert_exporter": "python",
   "pygments_lexer": "ipython3",
   "version": "3.8.5"
  },
  "source_map": [
   14,
   35,
   38,
   41,
   44,
   48,
   59
  ]
 },
 "nbformat": 4,
 "nbformat_minor": 5
}