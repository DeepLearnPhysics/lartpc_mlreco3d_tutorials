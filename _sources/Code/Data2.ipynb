{
 "cells": [
  {
   "cell_type": "markdown",
   "id": "animated-merchant",
   "metadata": {},
   "source": [
    "# Using ROOT only\n",
    "\n",
    "If you know [ROOT](https://root.cern/), the framework developed by CERN for particle physics data analysis, you can use it to look directly at the data files. \n",
    "\n",
    "```{note}\n",
    "Ignore this if you do not know ROOT. For most purposes, you do not need to know ROOT in order to use `lartpc_mlreco3d`.\n",
    "```\n",
    "\n",
    "## In ROOT\n",
    "In the command line, you can open the file with `root -b -l larcv.root`. The option `-b` (batch mode) disables graphical usage and the option `-l` tells it to skip the ROOT banner. Now you can examine it interactively using the usual ROOT commands.\n",
    "\n",
    "The ROOT file contains several TTrees (which you can list with `.ls` in the prompt). There are three types of TTrees in our ROOT files. The type of object stored in these TTrees depends on their name:\n",
    "* `sparse3d_*` refers to a [larcv::EventSparseTensor3D](https://github.com/DeepLearnPhysics/larcv2/blob/develop/larcv/core/DataFormat/EventVoxel3D.h#L47).\n",
    "* `cluster3d_*` refers to a [larcv::EventClusterVoxel3D](https://github.com/DeepLearnPhysics/larcv2/blob/develop/larcv/core/DataFormat/EventVoxel3D.h#L27), a list of clusters of voxels.\n",
    "* `particle_*` refers to a [larcv::EventParticle](https://github.com/DeepLearnPhysics/larcv2/blob/develop/larcv/core/DataFormat/EventParticle.h#L26), a list of `larcv::Particle` objects.\n",
    "\n",
    "## In Python\n",
    "Another way is to use PyROOT, the Python interface for ROOT."
   ]
  },
  {
   "cell_type": "code",
   "execution_count": 1,
   "id": "affected-telescope",
   "metadata": {},
   "outputs": [
    {
     "name": "stdout",
     "output_type": "stream",
     "text": [
      "Welcome to JupyROOT 6.22/02\n"
     ]
    }
   ],
   "source": [
    "import ROOT\n",
    "from ROOT import  TFile, TChain"
   ]
  },
  {
   "cell_type": "markdown",
   "id": "compatible-privilege",
   "metadata": {},
   "source": [
    "Now open the file using ROOT:"
   ]
  },
  {
   "cell_type": "code",
   "execution_count": 2,
   "id": "confused-trader",
   "metadata": {},
   "outputs": [
    {
     "name": "stdout",
     "output_type": "stream",
     "text": [
      "TFile**\t\t/sdf/home/l/ldomine/larcv.root\t\n",
      " TFile*\t\t/sdf/home/l/ldomine/larcv.root\t\n",
      "  KEY: TTree\tparticle_mpv_tree;1\tmpv tree\n",
      "  KEY: TTree\tcluster3d_mcst_tree;1\tmcst tree\n",
      "  KEY: TTree\tcluster3d_pcluster_tree;1\tpcluster tree\n",
      "  KEY: TTree\tcluster3d_sed_tree;1\tsed tree\n",
      "  KEY: TTree\tcluster3d_masked_true2reco_tree;1\tmasked_true2reco tree\n",
      "  KEY: TTree\tsparse3d_reco_tree;1\treco tree\n",
      "  KEY: TTree\tsparse3d_pcluster_index_tree;1\tpcluster_index tree\n",
      "  KEY: TTree\tsparse3d_masked_true_tree;1\tmasked_true tree\n",
      "  KEY: TTree\tcluster3d_pcluster_highE_tree;1\tpcluster_highE tree\n",
      "  KEY: TTree\tcluster3d_pcluster_lowE_tree;1\tpcluster_lowE tree\n",
      "  KEY: TTree\tsparse3d_pcluster_leftover_tree;1\tpcluster_leftover tree\n",
      "  KEY: TTree\tsparse3d_pcluster_semantics_tree;1\tpcluster_semantics tree\n",
      "  KEY: TTree\tparticle_pcluster_tree;1\tpcluster tree\n",
      "  KEY: TTree\tcluster3d_sed_at_tree;1\tsed_at tree\n",
      "  KEY: TTree\tsparse3d_reco_charge_asym_tree;1\treco_charge_asym tree\n",
      "  KEY: TTree\tsparse3d_reco_chi2_tree;1\treco_chi2 tree\n",
      "  KEY: TTree\tsparse3d_reco_occupancy_tree;1\treco_occupancy tree\n",
      "  KEY: TTree\tsparse3d_reco_hit_time0_tree;1\treco_hit_time0 tree\n",
      "  KEY: TTree\tsparse3d_reco_hit_time1_tree;1\treco_hit_time1 tree\n",
      "  KEY: TTree\tsparse3d_reco_hit_time2_tree;1\treco_hit_time2 tree\n",
      "  KEY: TTree\tsparse3d_reco_hit_rms0_tree;1\treco_hit_rms0 tree\n",
      "  KEY: TTree\tsparse3d_reco_hit_rms1_tree;1\treco_hit_rms1 tree\n",
      "  KEY: TTree\tsparse3d_reco_hit_rms2_tree;1\treco_hit_rms2 tree\n",
      "  KEY: TTree\tsparse3d_pcluster_tree;1\tpcluster tree\n",
      "  KEY: TTree\tsparse3d_sed_tree;1\tsed tree\n",
      "  KEY: TTree\tsparse3d_pcluster_semantics_ghost_tree;1\tpcluster_semantics_ghost tree\n",
      "  KEY: TTree\tparticle_corrected_tree;1\tcorrected tree\n"
     ]
    }
   ],
   "source": [
    "example = TFile( ' /sdf/home/l/ldomine/larcv.root' )\n",
    "example.ls()"
   ]
  },
  {
   "cell_type": "markdown",
   "id": "approved-jimmy",
   "metadata": {},
   "source": [
    "You can then manually browse the file. For example, if you wanted to look at the tree `cluster3d_sed_tree`, see how many clusters are there and what is the size of each cluster:"
   ]
  },
  {
   "cell_type": "code",
   "execution_count": 3,
   "id": "educated-generic",
   "metadata": {},
   "outputs": [
    {
     "name": "stdout",
     "output_type": "stream",
     "text": [
      "Number of clusters =  4\n",
      "\t 0\n",
      "\t 1\n",
      "\t 11\n",
      "\t 41\n",
      "Number of clusters =  8\n",
      "\t 0\n",
      "\t 0\n",
      "\t 0\n",
      "\t 0\n",
      "\t 5\n",
      "\t 8\n",
      "\t 16\n",
      "\t 129"
     ]
    },
    {
     "name": "stdout",
     "output_type": "stream",
     "text": [
      "\n",
      "Number of clusters =  28\n",
      "\t 1029\n",
      "\t 48\n",
      "\t 2\n",
      "\t 1\n",
      "\t 0\n",
      "\t 9\n",
      "\t 14\n",
      "\t 1\n",
      "\t 12\n",
      "\t 0\n",
      "\t 5\n",
      "\t 12\n",
      "\t 0\n",
      "\t 0\n",
      "\t 8\n",
      "\t 15\n",
      "\t 26\n",
      "\t 24\n",
      "\t 18\n",
      "\t 7\n",
      "\t 9\n",
      "\t 0\n",
      "\t 7\n",
      "\t 0\n",
      "\t 0\n",
      "\t 16\n",
      "\t 8\n",
      "\t 990\n",
      "Number of clusters =  39\n",
      "\t 1904\n",
      "\t 5\n",
      "\t 0\n",
      "\t 0\n",
      "\t 12\n",
      "\t 0\n",
      "\t 0\n",
      "\t 0\n",
      "\t 7\n",
      "\t 0\n",
      "\t 8\n",
      "\t 10\n",
      "\t 8\n",
      "\t 0\n",
      "\t 9\n",
      "\t 10\n",
      "\t 0\n",
      "\t 0\n",
      "\t 0\n",
      "\t 7\n",
      "\t 4\n",
      "\t 20\n",
      "\t 0\n",
      "\t 12\n",
      "\t 7\n",
      "\t 8\n",
      "\t 0\n",
      "\t 0\n",
      "\t 2\n",
      "\t 0\n",
      "\t 4\n",
      "\t 7\n",
      "\t 0\n",
      "\t 7\n",
      "\t 9\n",
      "\t 9\n",
      "\t 0\n",
      "\t 12\n",
      "\t 0\n",
      "Number of clusters =  1\n",
      "\t 225\n"
     ]
    }
   ],
   "source": [
    "tree = example.Get(\"cluster3d_sed_tree\")\n",
    "\n",
    "for entry in range(tree.GetEntries()):\n",
    "    tree.GetEntry(entry)\n",
    "    event = tree.cluster3d_sed_branch\n",
    "    clusters = event.as_vector()\n",
    "    print(\"Number of clusters = \", len(clusters))\n",
    "    for c in clusters:\n",
    "        clust = c.as_vector()\n",
    "        print(\"\\t\", clust.size())"
   ]
  },
  {
   "cell_type": "markdown",
   "id": "double-dodge",
   "metadata": {},
   "source": [
    " * [PyROOT - Getting started](https://root.cern/manual/python/#getting-started)\n",
    " \n",
    " ## Using LArCV to retrieve the image and visualize\n",
    " \n",
    " ```{note} TODO\n",
    " Coming soon\n",
    " ```"
   ]
  }
 ],
 "metadata": {
  "jupytext": {
   "cell_metadata_filter": "-all",
   "formats": "md:myst",
   "text_representation": {
    "extension": ".md",
    "format_name": "myst",
    "format_version": 0.13,
    "jupytext_version": "1.10.3"
   }
  },
  "kernelspec": {
   "display_name": "Python 3",
   "language": "python",
   "name": "python3"
  },
  "language_info": {
   "codemirror_mode": {
    "name": "ipython",
    "version": 3
   },
   "file_extension": ".py",
   "mimetype": "text/x-python",
   "name": "python",
   "nbconvert_exporter": "python",
   "pygments_lexer": "ipython3",
   "version": "3.6.9"
  },
  "source_map": [
   14,
   35,
   38,
   41,
   44,
   48,
   59
  ]
 },
 "nbformat": 4,
 "nbformat_minor": 5
}