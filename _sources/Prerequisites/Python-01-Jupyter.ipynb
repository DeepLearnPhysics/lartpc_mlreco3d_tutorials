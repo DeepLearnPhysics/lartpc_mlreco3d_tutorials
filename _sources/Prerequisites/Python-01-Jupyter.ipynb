{
 "cells": [
  {
   "cell_type": "markdown",
   "id": "6dd4dd0e",
   "metadata": {},
   "source": [
    "# Jupyter: notebook of code\n",
    "\n",
    "Probably many of you know know this software better than I know :) but let's share 5 minutes together to make sure we all are on the same page. \n",
    "\n",
    "Jupyter notebook (formerly known as IPython notebook) has been developed for the concept of _literate programming_ and it has become extremely popular within last seveal years ([article on Nature](https://www.nature.com/news/interactive-notebooks-sharing-the-code-1.16261)). As its name says (\"notebook\"), it is designed for users to program with readability and modularization in mind. \n",
    "\n",
    "In a notebook, individual block of code execution is done within a _cell_. All cells in the same notebook live within the same process and namespace scope. You can put explanation of the code (or beyond, like physics for which the code is developed) in a _markdown_ cell. Such explanation can go per code cell. We don't write a software in a notebook, but usually a higher level program (such as _main_ function) with an explanation of what's going on.\n",
    "\n",
    "Though originally developed for Julia, Python and R (hence \"Jupyter\"), now it supports all kinds of programming language including shell and even fortran(!). Many scientific blog posts are also done in a notebook and blogs to teach you about Jupyter (like [this one](http://arogozhnikov.github.io/2016/09/10/jupyter-features.html#Writing-formulae-in-latex)).\n",
    "\n",
    "## Default code engine\n",
    "When you start a notebook, you choose the default backend of the notebook. Pick Python3!"
   ]
  },
  {
   "cell_type": "code",
   "execution_count": 1,
   "id": "cd7613cc",
   "metadata": {},
   "outputs": [],
   "source": [
    "import numpy as np"
   ]
  },
  {
   "cell_type": "markdown",
   "id": "b3a6ab97",
   "metadata": {},
   "source": [
    "Note that the state of the process are shared among cells. What I just imported is accessible in the next cell."
   ]
  },
  {
   "cell_type": "code",
   "execution_count": 2,
   "id": "033127a2",
   "metadata": {},
   "outputs": [
    {
     "name": "stdout",
     "output_type": "stream",
     "text": [
      "<module 'numpy' from '/usr/local/lib/python3.8/dist-packages/numpy/__init__.py'>\n",
      "foo\n"
     ]
    }
   ],
   "source": [
    "print(np)\n",
    "np='foo' # after you execute this cell, np no longer points to numpy module\n",
    "print(np)"
   ]
  },
  {
   "cell_type": "markdown",
   "id": "62f82c59",
   "metadata": {},
   "source": [
    "... which means the execution order of cells matter (yes, you can execute whichever cell in any order you want). The object `np` no longer points to a numpy module.\n",
    "\n",
    "## Shell commands\n",
    "You can run shell commands with `!` in front."
   ]
  },
  {
   "cell_type": "code",
   "execution_count": 3,
   "id": "03edb9c8",
   "metadata": {},
   "outputs": [
    {
     "name": "stdout",
     "output_type": "stream",
     "text": [
      " Chain_Performance.ipynb\t\t   Visualization.ipynb\r\n",
      " Chain_Performance_2022.ipynb\t\t   Visualization_DuneND_Workshop.ipynb\r\n",
      " Chain_Performance_Plots.ipynb\t\t   Visualization_ME.ipynb\r\n",
      " Chain_Training.ipynb\t\t\t   Visualization_ME_Ghost.ipynb\r\n",
      " Chain_Training_Check.ipynb\t\t   Workshop_Michel.ipynb\r\n",
      " Chain_Training_ME.ipynb\t\t   Workshop_Muon.ipynb\r\n",
      " Dataset_Check_AngularDistribution.ipynb   Workshop_Shower_dEdx.ipynb\r\n",
      " Datasets.ipynb\t\t\t\t   apdata.pl\r\n",
      " Datasets_MPV_Check.ipynb\t\t   cpu_bug.py\r\n",
      " DebugTrainVal.ipynb\t\t\t   dkoh0207\r\n",
      " Debug_Justin.ipynb\t\t\t   felix_lartpc_mlreco3d\r\n",
      " Fails.ipynb\t\t\t\t   larcv.root\r\n",
      " Ghost_Statistics.ipynb\t\t\t   larcv1.root\r\n",
      " GraphSPICE_Inference.ipynb\t\t   larcv2\r\n",
      " GraphSpice_Edge_Threshold.ipynb\t   larcv2.root\r\n",
      " Icarus_Michel_electrons.ipynb\t\t   larcv_mpvmpr.root\r\n",
      " Icarus_Muon_Residual_Range.ipynb\t   larcv_nue_ccqe_v00\r\n",
      " Icarus_Shower_dEdx.ipynb\t\t   larcv_nue_ccqe_v01\r\n",
      " ME_CPU_Bug.ipynb\t\t\t   larcv_nue_ccqe_v02\r\n",
      " Metrics.ipynb\t\t\t\t   larcv_nue_ccqe_v04\r\n",
      " Metrics_Chain_Ghost.ipynb\t\t   larcv_nue_v01\r\n",
      " MinkowskiEngine\t\t\t   larcv_nue_v02\r\n",
      " Nue.ipynb\t\t\t\t   larcv_run5507.root\r\n",
      " Nue_Energy_Study.ipynb\t\t\t   lartpc_mlreco3d\r\n",
      " Nue_Selection.ipynb\t\t\t   lartpc_mlreco3d_tutorials\r\n",
      " Output_Chain_Ghost.ipynb\t\t   log\r\n",
      " Sofia_dEdx.ipynb\t\t\t   log_trash\r\n",
      " Test.ipynb\t\t\t\t   mpvmpr_062021_v00\r\n",
      "'Untitled Folder'\t\t\t   muE_liquid_argon.txt\r\n",
      " Untitled.ipynb\t\t\t\t   ondemand\r\n",
      " Untitled1.ipynb\t\t\t   outreach\r\n",
      " Untitled2.ipynb\t\t\t   protons.csv\r\n",
      " Untitled3.ipynb\t\t\t   rain.csv\r\n",
      " Untitled4.ipynb\t\t\t   sdfgroup\r\n",
      " Untitled5.ipynb\t\t\t   slacml-kmi2020\r\n",
      " Untitled6.ipynb\t\t\t   weights\r\n",
      " Vertex_Resolution.ipynb\t\t   weights_trash\r\n"
     ]
    }
   ],
   "source": [
    "!ls $HOME"
   ]
  },
  {
   "cell_type": "markdown",
   "id": "b4f1fe74",
   "metadata": {},
   "source": [
    "So if you want to install another python module and feel lazy, you can just execute `!pip install --user whatever` within a cell. \n",
    "\n",
    "## Different language\n",
    "You can switch to a different language within a cell by specifying with `%%`, given that the language is supported by your environment. The software container we use doesn't have much options, but we got bash ;)"
   ]
  },
  {
   "cell_type": "code",
   "execution_count": 4,
   "id": "56ef4ab0",
   "metadata": {},
   "outputs": [
    {
     "name": "stdout",
     "output_type": "stream",
     "text": [
      "Chain_Performance.ipynb\n",
      "Chain_Performance_2022.ipynb\n",
      "Chain_Performance_Plots.ipynb\n",
      "Chain_Training.ipynb\n",
      "Chain_Training_Check.ipynb\n",
      "Chain_Training_ME.ipynb\n",
      "Dataset_Check_AngularDistribution.ipynb\n",
      "Datasets.ipynb\n",
      "Datasets_MPV_Check.ipynb\n",
      "DebugTrainVal.ipynb\n",
      "Debug_Justin.ipynb\n",
      "Fails.ipynb\n",
      "Ghost_Statistics.ipynb\n",
      "GraphSPICE_Inference.ipynb\n",
      "GraphSpice_Edge_Threshold.ipynb\n",
      "Icarus_Michel_electrons.ipynb\n",
      "Icarus_Muon_Residual_Range.ipynb\n",
      "Icarus_Shower_dEdx.ipynb\n",
      "ME_CPU_Bug.ipynb\n",
      "Metrics.ipynb\n",
      "Metrics_Chain_Ghost.ipynb\n",
      "MinkowskiEngine\n",
      "Nue.ipynb\n",
      "Nue_Energy_Study.ipynb\n",
      "Nue_Selection.ipynb\n",
      "Output_Chain_Ghost.ipynb\n",
      "Sofia_dEdx.ipynb\n",
      "Test.ipynb\n",
      "Untitled Folder\n",
      "Untitled.ipynb\n",
      "Untitled1.ipynb\n",
      "Untitled2.ipynb\n",
      "Untitled3.ipynb\n",
      "Untitled4.ipynb\n",
      "Untitled5.ipynb\n",
      "Untitled6.ipynb\n",
      "Vertex_Resolution.ipynb\n",
      "Visualization.ipynb\n",
      "Visualization_DuneND_Workshop.ipynb\n",
      "Visualization_ME.ipynb\n",
      "Visualization_ME_Ghost.ipynb\n",
      "Workshop_Michel.ipynb\n",
      "Workshop_Muon.ipynb\n",
      "Workshop_Shower_dEdx.ipynb\n",
      "apdata.pl\n",
      "cpu_bug.py\n",
      "dkoh0207\n",
      "felix_lartpc_mlreco3d\n",
      "larcv.root\n",
      "larcv1.root\n",
      "larcv2\n",
      "larcv2.root\n",
      "larcv_mpvmpr.root\n",
      "larcv_nue_ccqe_v00\n",
      "larcv_nue_ccqe_v01\n",
      "larcv_nue_ccqe_v02\n",
      "larcv_nue_ccqe_v04\n",
      "larcv_nue_v01\n",
      "larcv_nue_v02\n",
      "larcv_run5507.root\n",
      "lartpc_mlreco3d\n",
      "lartpc_mlreco3d_tutorials\n",
      "log\n",
      "log_trash\n",
      "mpvmpr_062021_v00\n",
      "muE_liquid_argon.txt\n",
      "ondemand\n",
      "outreach\n",
      "protons.csv\n",
      "rain.csv\n",
      "sdfgroup\n",
      "slacml-kmi2020\n",
      "weights\n",
      "weights_trash\n"
     ]
    }
   ],
   "source": [
    "%%bash\n",
    "ls $HOME"
   ]
  },
  {
   "cell_type": "markdown",
   "id": "876e5693",
   "metadata": {},
   "source": [
    "## Modifyng shell environment\n",
    "Another thing we often feel lazy about is to change the shell environment variable. You can do this within the notebook like shown below (or stop the notebook, change environment value, then restart notebook ... not good for lazy people)."
   ]
  },
  {
   "cell_type": "code",
   "execution_count": 5,
   "id": "66beb9b9",
   "metadata": {},
   "outputs": [
    {
     "name": "stdout",
     "output_type": "stream",
     "text": [
      "env: CUDA_VISIBLE_DEVICES=0\n"
     ]
    }
   ],
   "source": [
    "%env CUDA_VISIBLE_DEVICES=0"
   ]
  },
  {
   "cell_type": "markdown",
   "id": "195772d5",
   "metadata": {},
   "source": [
    "Now try:"
   ]
  },
  {
   "cell_type": "code",
   "execution_count": 6,
   "id": "0cbe9117",
   "metadata": {},
   "outputs": [
    {
     "name": "stdout",
     "output_type": "stream",
     "text": [
      "0\r\n"
     ]
    }
   ],
   "source": [
    "! echo $CUDA_VISIBLE_DEVICES"
   ]
  },
  {
   "cell_type": "markdown",
   "id": "e3ee460e",
   "metadata": {},
   "source": [
    "_Voila!_ (you should see `0`) ... but note, the following is not the same:"
   ]
  },
  {
   "cell_type": "code",
   "execution_count": 7,
   "id": "d6c515b6",
   "metadata": {},
   "outputs": [],
   "source": [
    "! export CUDA_VISIBLE_DEVICES=1"
   ]
  },
  {
   "cell_type": "markdown",
   "id": "bc5b186e",
   "metadata": {},
   "source": [
    "Let's check:"
   ]
  },
  {
   "cell_type": "code",
   "execution_count": 8,
   "id": "eee180f6",
   "metadata": {},
   "outputs": [
    {
     "name": "stdout",
     "output_type": "stream",
     "text": [
      "0\r\n"
     ]
    }
   ],
   "source": [
    "! echo $CUDA_VISIBLE_DEVICES"
   ]
  },
  {
   "cell_type": "markdown",
   "id": "39b5b273",
   "metadata": {},
   "source": [
    "You should get `0`, and that's because `! export ` executes the command in a _sub-shell_ and the scope is only within the cell.\n",
    "\n",
    "## Run a python script\n",
    "`%run` is a handy command to run a python script (or even jupyter notebook actually!). Let's create a simply python script."
   ]
  },
  {
   "cell_type": "code",
   "execution_count": 9,
   "id": "f107e796",
   "metadata": {},
   "outputs": [],
   "source": [
    "! echo \"print('hello world!')\" >> hello.py"
   ]
  },
  {
   "cell_type": "markdown",
   "id": "1136e847",
   "metadata": {},
   "source": [
    "and run it:"
   ]
  },
  {
   "cell_type": "code",
   "execution_count": 10,
   "id": "86906450",
   "metadata": {},
   "outputs": [
    {
     "name": "stdout",
     "output_type": "stream",
     "text": [
      "hello world!\n",
      "hello world!\n",
      "hello world!\n",
      "hello world!\n",
      "hello world!\n",
      "hello world!\n",
      "hello world!\n",
      "hello world!\n",
      "hello world!\n",
      "hello world!\n",
      "hello world!\n",
      "hello world!\n"
     ]
    }
   ],
   "source": [
    "%run hello.py"
   ]
  },
  {
   "cell_type": "markdown",
   "id": "3f08f178",
   "metadata": {},
   "source": [
    "## Time your program\n",
    "You have a code execution cell and want to measure how much time it takes. Sure you can add such profiling feature to your code, but here's how you can do in the notebook using `%%time`."
   ]
  },
  {
   "cell_type": "code",
   "execution_count": 11,
   "id": "425dff64",
   "metadata": {},
   "outputs": [
    {
     "name": "stdout",
     "output_type": "stream",
     "text": [
      "CPU times: user 2.71 ms, sys: 1.9 ms, total: 4.61 ms\n",
      "Wall time: 4.27 ms\n"
     ]
    }
   ],
   "source": [
    "%%time\n",
    "import numpy as np\n",
    "sum = np.sum(np.ones([1000,1000],dtype=np.float32))"
   ]
  },
  {
   "cell_type": "markdown",
   "id": "2b1ab417",
   "metadata": {},
   "source": [
    "## Latex\n",
    "Jupyter supports `MathJax`, and also you can just run latex"
   ]
  },
  {
   "cell_type": "code",
   "execution_count": 12,
   "id": "fc0baabb",
   "metadata": {},
   "outputs": [
    {
     "data": {
      "text/latex": [
       "\n",
       "I have to write a formula like $\\sin^22\\theta\\left(\\frac{1.27\\Delta m^2L}{E_\\nu}\\right)$ to get Ph.D.\n"
      ],
      "text/plain": [
       "<IPython.core.display.Latex object>"
      ]
     },
     "metadata": {},
     "output_type": "display_data"
    }
   ],
   "source": [
    "%%latex\n",
    "\n",
    "I have to write a formula like $\\sin^22\\theta\\left(\\frac{1.27\\Delta m^2L}{E_\\nu}\\right)$ to get Ph.D."
   ]
  },
  {
   "cell_type": "markdown",
   "id": "5a364a29",
   "metadata": {},
   "source": [
    "## Executing a web script\n",
    "Well, all of these fun things are running using `javascript` on `html`... can we run our own webscript execution command? Sure we can! Here's an example to hide all Jupyter code blocks using that feature."
   ]
  },
  {
   "cell_type": "code",
   "execution_count": 13,
   "id": "85a18c4f",
   "metadata": {},
   "outputs": [
    {
     "data": {
      "text/html": [
       "<script>\n",
       "code_show=false; \n",
       "function code_toggle() {\n",
       " if (code_show){\n",
       " $('div.input').hide();\n",
       " } else {\n",
       " $('div.input').show();\n",
       " }\n",
       " code_show = !code_show\n",
       "} \n",
       "$( document ).ready(code_toggle);\n",
       "</script>\n",
       "To toggle on/off the raw code, click <a href=\"javascript:code_toggle()\">here</a>."
      ],
      "text/plain": [
       "<IPython.core.display.HTML object>"
      ]
     },
     "execution_count": 13,
     "metadata": {},
     "output_type": "execute_result"
    }
   ],
   "source": [
    "from IPython.display import HTML\n",
    "HTML('''<script>\n",
    "code_show=false; \n",
    "function code_toggle() {\n",
    " if (code_show){\n",
    " $('div.input').hide();\n",
    " } else {\n",
    " $('div.input').show();\n",
    " }\n",
    " code_show = !code_show\n",
    "} \n",
    "$( document ).ready(code_toggle);\n",
    "</script>\n",
    "To toggle on/off the raw code, click <a href=\"javascript:code_toggle()\">here</a>.''')"
   ]
  }
 ],
 "metadata": {
  "jupytext": {
   "cell_metadata_filter": "-all",
   "formats": "md:myst",
   "text_representation": {
    "extension": ".md",
    "format_name": "myst",
    "format_version": 0.13,
    "jupytext_version": "1.10.3"
   }
  },
  "kernelspec": {
   "display_name": "Python 3",
   "language": "python",
   "name": "python3"
  },
  "language_info": {
   "codemirror_mode": {
    "name": "ipython",
    "version": 3
   },
   "file_extension": ".py",
   "mimetype": "text/x-python",
   "name": "python",
   "nbconvert_exporter": "python",
   "pygments_lexer": "ipython3",
   "version": "3.8.10"
  },
  "source_map": [
   14,
   29,
   31,
   35,
   39,
   46,
   48,
   55,
   58,
   63,
   65,
   68,
   70,
   74,
   76,
   79,
   81,
   88,
   90,
   93,
   95,
   100,
   104,
   109,
   113,
   119
  ]
 },
 "nbformat": 4,
 "nbformat_minor": 5
}