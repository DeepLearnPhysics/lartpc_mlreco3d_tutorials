{
 "cells": [
  {
   "cell_type": "markdown",
   "id": "precious-inclusion",
   "metadata": {},
   "source": [
    "# Jupyter: notebook of code\n",
    "\n",
    "Probably many of you know know this software better than I know :) but let's share 5 minutes together to make sure we all are on the same page. \n",
    "\n",
    "Jupyter notebook (formerly known as IPython notebook) has been developed for the concept of _literate programming_ and it has become extremely popular within last seveal years ([article on Nature](https://www.nature.com/news/interactive-notebooks-sharing-the-code-1.16261)). As its name says (\"notebook\"), it is designed for users to program with readability and modularization in mind. \n",
    "\n",
    "In a notebook, individual block of code execution is done within a _cell_. All cells in the same notebook live within the same process and namespace scope. You can put explanation of the code (or beyond, like physics for which the code is developed) in a _markdown_ cell. Such explanation can go per code cell. We don't write a software in a notebook, but usually a higher level program (such as _main_ function) with an explanation of what's going on.\n",
    "\n",
    "Though originally developed for Julia, Python and R (hence \"Jupyter\"), now it supports all kinds of programming language including shell and even fortran(!). Many scientific blog posts are also done in a notebook and blogs to teach you about Jupyter (like [this one](http://arogozhnikov.github.io/2016/09/10/jupyter-features.html#Writing-formulae-in-latex)).\n",
    "\n",
    "## Default code engine\n",
    "When you start a notebook, you choose the default backend of the notebook. Pick Python3!"
   ]
  },
  {
   "cell_type": "code",
   "execution_count": 1,
   "id": "qualified-bangladesh",
   "metadata": {},
   "outputs": [],
   "source": [
    "import numpy as np"
   ]
  },
  {
   "cell_type": "markdown",
   "id": "divine-documentation",
   "metadata": {},
   "source": [
    "Note that the state of the process are shared among cells. What I just imported is accessible in the next cell."
   ]
  },
  {
   "cell_type": "code",
   "execution_count": 2,
   "id": "beginning-missile",
   "metadata": {},
   "outputs": [
    {
     "name": "stdout",
     "output_type": "stream",
     "text": [
      "<module 'numpy' from '/usr/local/lib/python3.6/dist-packages/numpy/__init__.py'>\n",
      "foo\n"
     ]
    }
   ],
   "source": [
    "print(np)\n",
    "np='foo' # after you execute this cell, np no longer points to numpy module\n",
    "print(np)"
   ]
  },
  {
   "cell_type": "markdown",
   "id": "reasonable-christianity",
   "metadata": {},
   "source": [
    "... which means the execution order of cells matter (yes, you can execute whichever cell in any order you want). The object `np` no longer points to a numpy module.\n",
    "\n",
    "## Shell commands\n",
    "You can run shell commands with `!` in front."
   ]
  },
  {
   "cell_type": "code",
   "execution_count": 3,
   "id": "refined-kingston",
   "metadata": {},
   "outputs": [
    {
     "name": "stdout",
     "output_type": "stream",
     "text": [
      " Chain_Training.ipynb\t    felix_lartpc_mlreco3d   larcv_nue_v01\r\n",
      " Chain_Training_ME.ipynb    larcv.root\t\t    larcv_nue_v02\r\n",
      " MinkowskiEngine\t    larcv1.root\t\t    larcv_run5507.root\r\n",
      " Nue.ipynb\t\t    larcv2\t\t    lartpc_mlreco3d\r\n",
      " Nue_Energy_Study.ipynb     larcv2.root\t\t    lartpc_mlreco3d_tutorials\r\n",
      " Output_Chain_Ghost.ipynb   larcv_mpvmpr.root\t    mpvmpr_062021_v00\r\n",
      "'Untitled Folder'\t    larcv_nue_ccqe_v00\t    ondemand\r\n",
      " Untitled.ipynb\t\t    larcv_nue_ccqe_v01\t    outreach\r\n",
      " Vertex_Resolution.ipynb    larcv_nue_ccqe_v02\t    sdfgroup\r\n",
      " Visualization.ipynb\t    larcv_nue_ccqe_v04\t    slacml-kmi2020\r\n"
     ]
    }
   ],
   "source": [
    "!ls $HOME"
   ]
  },
  {
   "cell_type": "markdown",
   "id": "intensive-funds",
   "metadata": {},
   "source": [
    "So if you want to install another python module and feel lazy, you can just execute `!pip install --user whatever` within a cell. \n",
    "\n",
    "## Different language\n",
    "You can switch to a different language within a cell by specifying with `%%`, given that the language is supported by your environment. The software container we use doesn't have much options, but we got bash ;)"
   ]
  },
  {
   "cell_type": "code",
   "execution_count": 4,
   "id": "independent-innocent",
   "metadata": {},
   "outputs": [
    {
     "name": "stdout",
     "output_type": "stream",
     "text": [
      "Chain_Training.ipynb\n",
      "Chain_Training_ME.ipynb\n",
      "MinkowskiEngine\n",
      "Nue.ipynb\n",
      "Nue_Energy_Study.ipynb\n",
      "Output_Chain_Ghost.ipynb\n",
      "Untitled Folder\n",
      "Untitled.ipynb\n",
      "Vertex_Resolution.ipynb\n",
      "Visualization.ipynb\n",
      "felix_lartpc_mlreco3d\n",
      "larcv.root\n",
      "larcv1.root\n",
      "larcv2\n",
      "larcv2.root\n",
      "larcv_mpvmpr.root\n",
      "larcv_nue_ccqe_v00\n",
      "larcv_nue_ccqe_v01\n",
      "larcv_nue_ccqe_v02\n",
      "larcv_nue_ccqe_v04\n",
      "larcv_nue_v01\n",
      "larcv_nue_v02\n",
      "larcv_run5507.root\n",
      "lartpc_mlreco3d\n",
      "lartpc_mlreco3d_tutorials\n",
      "mpvmpr_062021_v00\n",
      "ondemand\n",
      "outreach\n",
      "sdfgroup\n",
      "slacml-kmi2020\n"
     ]
    }
   ],
   "source": [
    "%%bash\n",
    "ls $HOME"
   ]
  },
  {
   "cell_type": "markdown",
   "id": "transparent-hours",
   "metadata": {},
   "source": [
    "## Modifyng shell environment\n",
    "Another thing we often feel lazy about is to change the shell environment variable. You can do this within the notebook like shown below (or stop the notebook, change environment value, then restart notebook ... not good for lazy people)."
   ]
  },
  {
   "cell_type": "code",
   "execution_count": 5,
   "id": "proved-blackjack",
   "metadata": {},
   "outputs": [
    {
     "name": "stdout",
     "output_type": "stream",
     "text": [
      "env: CUDA_VISIBLE_DEVICES=0\n"
     ]
    }
   ],
   "source": [
    "%env CUDA_VISIBLE_DEVICES=0"
   ]
  },
  {
   "cell_type": "markdown",
   "id": "patient-vertex",
   "metadata": {},
   "source": [
    "Now try:"
   ]
  },
  {
   "cell_type": "code",
   "execution_count": 6,
   "id": "organizational-georgia",
   "metadata": {},
   "outputs": [
    {
     "name": "stdout",
     "output_type": "stream",
     "text": [
      "0\r\n"
     ]
    }
   ],
   "source": [
    "! echo $CUDA_VISIBLE_DEVICES"
   ]
  },
  {
   "cell_type": "markdown",
   "id": "provincial-directory",
   "metadata": {},
   "source": [
    "_Voila!_ (you should see `0`) ... but note, the following is not the same:"
   ]
  },
  {
   "cell_type": "code",
   "execution_count": 7,
   "id": "fuzzy-chemical",
   "metadata": {},
   "outputs": [],
   "source": [
    "! export CUDA_VISIBLE_DEVICES=1"
   ]
  },
  {
   "cell_type": "markdown",
   "id": "soviet-acrylic",
   "metadata": {},
   "source": [
    "Let's check:"
   ]
  },
  {
   "cell_type": "code",
   "execution_count": 8,
   "id": "interested-upgrade",
   "metadata": {},
   "outputs": [
    {
     "name": "stdout",
     "output_type": "stream",
     "text": [
      "0\r\n"
     ]
    }
   ],
   "source": [
    "! echo $CUDA_VISIBLE_DEVICES"
   ]
  },
  {
   "cell_type": "markdown",
   "id": "spanish-contamination",
   "metadata": {},
   "source": [
    "You should get `0`, and that's because `! export ` executes the command in a _sub-shell_ and the scope is only within the cell.\n",
    "\n",
    "## Run a python script\n",
    "`%run` is a handy command to run a python script (or even jupyter notebook actually!). Let's create a simply python script."
   ]
  },
  {
   "cell_type": "code",
   "execution_count": 9,
   "id": "major-boating",
   "metadata": {},
   "outputs": [],
   "source": [
    "! echo \"print('hello world!')\" >> hello.py"
   ]
  },
  {
   "cell_type": "markdown",
   "id": "illegal-longitude",
   "metadata": {},
   "source": [
    "and run it:"
   ]
  },
  {
   "cell_type": "code",
   "execution_count": 10,
   "id": "optional-creator",
   "metadata": {},
   "outputs": [
    {
     "name": "stdout",
     "output_type": "stream",
     "text": [
      "hello world!\n",
      "hello world!\n",
      "hello world!\n",
      "hello world!\n",
      "hello world!\n",
      "hello world!\n"
     ]
    }
   ],
   "source": [
    "%run hello.py"
   ]
  },
  {
   "cell_type": "markdown",
   "id": "judicial-binary",
   "metadata": {},
   "source": [
    "## Time your program\n",
    "You have a code execution cell and want to measure how much time it takes. Sure you can add such profiling feature to your code, but here's how you can do in the notebook using `%%time`."
   ]
  },
  {
   "cell_type": "code",
   "execution_count": 11,
   "id": "educational-blast",
   "metadata": {},
   "outputs": [
    {
     "name": "stdout",
     "output_type": "stream",
     "text": [
      "CPU times: user 1.24 ms, sys: 2.16 ms, total: 3.39 ms\n",
      "Wall time: 2.96 ms\n"
     ]
    }
   ],
   "source": [
    "%%time\n",
    "import numpy as np\n",
    "sum = np.sum(np.ones([1000,1000],dtype=np.float32))"
   ]
  },
  {
   "cell_type": "markdown",
   "id": "amber-messenger",
   "metadata": {},
   "source": [
    "## Latex\n",
    "Jupyter supports `MathJax`, and also you can just run latex"
   ]
  },
  {
   "cell_type": "code",
   "execution_count": 12,
   "id": "proved-evening",
   "metadata": {},
   "outputs": [
    {
     "data": {
      "text/latex": [
       "\n",
       "I have to write a formula like $\\sin^22\\theta\\left(\\frac{1.27\\Delta m^2L}{E_\\nu}\\right)$ to get Ph.D.\n"
      ],
      "text/plain": [
       "<IPython.core.display.Latex object>"
      ]
     },
     "metadata": {},
     "output_type": "display_data"
    }
   ],
   "source": [
    "%%latex\n",
    "\n",
    "I have to write a formula like $\\sin^22\\theta\\left(\\frac{1.27\\Delta m^2L}{E_\\nu}\\right)$ to get Ph.D."
   ]
  },
  {
   "cell_type": "markdown",
   "id": "significant-analyst",
   "metadata": {},
   "source": [
    "## Executing a web script\n",
    "Well, all of these fun things are running using `javascript` on `html`... can we run our own webscript execution command? Sure we can! Here's an example to hide all Jupyter code blocks using that feature."
   ]
  },
  {
   "cell_type": "code",
   "execution_count": 13,
   "id": "neither-damages",
   "metadata": {},
   "outputs": [
    {
     "data": {
      "text/html": [
       "<script>\n",
       "code_show=false; \n",
       "function code_toggle() {\n",
       " if (code_show){\n",
       " $('div.input').hide();\n",
       " } else {\n",
       " $('div.input').show();\n",
       " }\n",
       " code_show = !code_show\n",
       "} \n",
       "$( document ).ready(code_toggle);\n",
       "</script>\n",
       "To toggle on/off the raw code, click <a href=\"javascript:code_toggle()\">here</a>."
      ],
      "text/plain": [
       "<IPython.core.display.HTML object>"
      ]
     },
     "execution_count": 13,
     "metadata": {},
     "output_type": "execute_result"
    }
   ],
   "source": [
    "from IPython.display import HTML\n",
    "HTML('''<script>\n",
    "code_show=false; \n",
    "function code_toggle() {\n",
    " if (code_show){\n",
    " $('div.input').hide();\n",
    " } else {\n",
    " $('div.input').show();\n",
    " }\n",
    " code_show = !code_show\n",
    "} \n",
    "$( document ).ready(code_toggle);\n",
    "</script>\n",
    "To toggle on/off the raw code, click <a href=\"javascript:code_toggle()\">here</a>.''')"
   ]
  }
 ],
 "metadata": {
  "jupytext": {
   "cell_metadata_filter": "-all",
   "formats": "md:myst",
   "text_representation": {
    "extension": ".md",
    "format_name": "myst",
    "format_version": 0.13,
    "jupytext_version": "1.10.3"
   }
  },
  "kernelspec": {
   "display_name": "Python 3",
   "language": "python",
   "name": "python3"
  },
  "language_info": {
   "codemirror_mode": {
    "name": "ipython",
    "version": 3
   },
   "file_extension": ".py",
   "mimetype": "text/x-python",
   "name": "python",
   "nbconvert_exporter": "python",
   "pygments_lexer": "ipython3",
   "version": "3.6.9"
  },
  "source_map": [
   14,
   29,
   31,
   35,
   39,
   46,
   48,
   55,
   58,
   63,
   65,
   68,
   70,
   74,
   76,
   79,
   81,
   88,
   90,
   93,
   95,
   100,
   104,
   109,
   113,
   119
  ]
 },
 "nbformat": 4,
 "nbformat_minor": 5
}