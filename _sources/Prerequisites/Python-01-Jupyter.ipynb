{
 "cells": [
  {
   "cell_type": "markdown",
   "id": "13345b94",
   "metadata": {},
   "source": [
    "# Jupyter: notebook of code\n",
    "\n",
    "Probably many of you know know this software better than I know :) but let's share 5 minutes together to make sure we all are on the same page. \n",
    "\n",
    "Jupyter notebook (formerly known as IPython notebook) has been developed for the concept of _literate programming_ and it has become extremely popular within last seveal years ([article on Nature](https://www.nature.com/news/interactive-notebooks-sharing-the-code-1.16261)). As its name says (\"notebook\"), it is designed for users to program with readability and modularization in mind. \n",
    "\n",
    "In a notebook, individual block of code execution is done within a _cell_. All cells in the same notebook live within the same process and namespace scope. You can put explanation of the code (or beyond, like physics for which the code is developed) in a _markdown_ cell. Such explanation can go per code cell. We don't write a software in a notebook, but usually a higher level program (such as _main_ function) with an explanation of what's going on.\n",
    "\n",
    "Though originally developed for Julia, Python and R (hence \"Jupyter\"), now it supports all kinds of programming language including shell and even fortran(!). Many scientific blog posts are also done in a notebook and blogs to teach you about Jupyter (like [this one](http://arogozhnikov.github.io/2016/09/10/jupyter-features.html#Writing-formulae-in-latex)).\n",
    "\n",
    "## Default code engine\n",
    "When you start a notebook, you choose the default backend of the notebook. Pick Python3!"
   ]
  },
  {
   "cell_type": "code",
   "execution_count": 1,
   "id": "963b8faa",
   "metadata": {},
   "outputs": [],
   "source": [
    "import numpy as np"
   ]
  },
  {
   "cell_type": "markdown",
   "id": "26f32f75",
   "metadata": {},
   "source": [
    "Note that the state of the process are shared among cells. What I just imported is accessible in the next cell."
   ]
  },
  {
   "cell_type": "code",
   "execution_count": 2,
   "id": "7dace2a3",
   "metadata": {},
   "outputs": [
    {
     "name": "stdout",
     "output_type": "stream",
     "text": [
      "<module 'numpy' from '/usr/local/lib/python3.8/dist-packages/numpy/__init__.py'>\n",
      "foo\n"
     ]
    }
   ],
   "source": [
    "print(np)\n",
    "np='foo' # after you execute this cell, np no longer points to numpy module\n",
    "print(np)"
   ]
  },
  {
   "cell_type": "markdown",
   "id": "67060bda",
   "metadata": {},
   "source": [
    "... which means the execution order of cells matter (yes, you can execute whichever cell in any order you want). The object `np` no longer points to a numpy module.\n",
    "\n",
    "## Shell commands\n",
    "You can run shell commands with `!` in front."
   ]
  },
  {
   "cell_type": "code",
   "execution_count": 3,
   "id": "4e786653",
   "metadata": {},
   "outputs": [
    {
     "name": "stdout",
     "output_type": "stream",
     "text": [
      " BNB_numu.ipynb\t\t\t\t   Vertex_Resolution.ipynb\r\n",
      " Chain_Performance.ipynb\t\t   Visualization.ipynb\r\n",
      " Chain_Performance_2022.ipynb\t\t   Visualization_Doublets.ipynb\r\n",
      " Chain_Performance_Plots.ipynb\t\t   Visualization_DuneND_Workshop.ipynb\r\n",
      " Chain_Training.ipynb\t\t\t   Visualization_GNNML_Talk_2022.ipynb\r\n",
      " Chain_Training_Check.ipynb\t\t   Visualization_Icarus_Data.ipynb\r\n",
      " Chain_Training_Check_Doublets.ipynb\t   Visualization_ME.ipynb\r\n",
      " Chain_Training_ME.ipynb\t\t   Visualization_ME_Ghost.ipynb\r\n",
      " Data_MC_Comparisons.ipynb\t\t   Workshop_ICARUS_Michel.ipynb\r\n",
      " Dataset_Check_AngularDistribution.ipynb   Workshop_ICARUS_Muons.ipynb\r\n",
      " Dataset_Neutrino_Check.ipynb\t\t   Workshop_ICARUS_Neutrino.ipynb\r\n",
      " Datasets.ipynb\t\t\t\t   Workshop_Michel.ipynb\r\n",
      " Datasets_MPV_Check.ipynb\t\t   Workshop_Muon.ipynb\r\n",
      " DebugTrainVal.ipynb\t\t\t   Workshop_Shower_dEdx.ipynb\r\n",
      " Debug_Justin.ipynb\t\t\t   apdata.pl\r\n",
      " Fails.ipynb\t\t\t\t   cpu_bug.py\r\n",
      " Ghost_Statistics.ipynb\t\t\t   dkoh0207\r\n",
      " GraphSPICE_Inference.ipynb\t\t   felix_lartpc_mlreco3d\r\n",
      " GraphSpice_Edge_Threshold.ipynb\t   larcv.root\r\n",
      " Icarus_ACPT_Muons.ipynb\t\t   larcv1.root\r\n",
      " Icarus_Michel_electrons.ipynb\t\t   larcv2\r\n",
      " Icarus_Michel_electrons_Updated.ipynb\t   larcv2.root\r\n",
      " Icarus_Muon_Residual_Range.ipynb\t   larcv_mpvmpr.root\r\n",
      " Icarus_Muons_Lifetime.ipynb\t\t   larcv_nue_ccqe_v00\r\n",
      " Icarus_Shower_dEdx.ipynb\t\t   larcv_nue_ccqe_v01\r\n",
      " Icarus_Stopping_Muons.ipynb\t\t   larcv_nue_ccqe_v02\r\n",
      " Icarus_Topology_Statistics_Study.ipynb    larcv_nue_ccqe_v04\r\n",
      " ME_CPU_Bug.ipynb\t\t\t   larcv_nue_v01\r\n",
      " Metrics.ipynb\t\t\t\t   larcv_nue_v02\r\n",
      " Metrics_Chain_Ghost.ipynb\t\t   larcv_run5507.root\r\n",
      " Metrics_Page.ipynb\t\t\t   lartpc_mlreco3d\r\n",
      " MinkowskiEngine\t\t\t   lartpc_mlreco3d_tutorials\r\n",
      " Misc.ipynb\t\t\t\t   log\r\n",
      " Nue.ipynb\t\t\t\t   log_trash\r\n",
      " Nue_Energy_Study.ipynb\t\t\t   michel_flash.csv\r\n",
      " Nue_Selection.ipynb\t\t\t   michel_flash_muplus_062022_v01_0.csv\r\n",
      " Nue_Selection_Update.ipynb\t\t   mpvmpr_062021_v00\r\n",
      " Output_Chain_Ghost.ipynb\t\t   muE_liquid_argon.txt\r\n",
      " PMT_Michel.ipynb\t\t\t   ondemand\r\n",
      " Sofia_dEdx.ipynb\t\t\t   outreach\r\n",
      " Test.ipynb\t\t\t\t   protons.csv\r\n",
      "'Untitled Folder'\t\t\t   rain.csv\r\n",
      " Untitled.ipynb\t\t\t\t   run_nue.txt\r\n",
      " Untitled1.ipynb\t\t\t   run_nue_largeant.txt\r\n",
      " Untitled2.ipynb\t\t\t   sdfgroup\r\n",
      " Untitled3.ipynb\t\t\t   slacml-kmi2020\r\n",
      " Untitled4.ipynb\t\t\t   stopping_muons_chi2.csv\r\n",
      " Untitled5.ipynb\t\t\t   stopping_muons_chi2_data.csv\r\n",
      " Untitled6.ipynb\t\t\t   weights\r\n",
      " Untitled7.ipynb\t\t\t   weights_trash\r\n"
     ]
    }
   ],
   "source": [
    "!ls $HOME"
   ]
  },
  {
   "cell_type": "markdown",
   "id": "c786eeb6",
   "metadata": {},
   "source": [
    "So if you want to install another python module and feel lazy, you can just execute `!pip install --user whatever` within a cell. \n",
    "\n",
    "## Different language\n",
    "You can switch to a different language within a cell by specifying with `%%`, given that the language is supported by your environment. The software container we use doesn't have much options, but we got bash ;)"
   ]
  },
  {
   "cell_type": "code",
   "execution_count": 4,
   "id": "7e21eb99",
   "metadata": {},
   "outputs": [
    {
     "name": "stdout",
     "output_type": "stream",
     "text": [
      "BNB_numu.ipynb\n",
      "Chain_Performance.ipynb\n",
      "Chain_Performance_2022.ipynb\n",
      "Chain_Performance_Plots.ipynb\n",
      "Chain_Training.ipynb\n",
      "Chain_Training_Check.ipynb\n",
      "Chain_Training_Check_Doublets.ipynb\n",
      "Chain_Training_ME.ipynb\n",
      "Data_MC_Comparisons.ipynb\n",
      "Dataset_Check_AngularDistribution.ipynb\n",
      "Dataset_Neutrino_Check.ipynb\n",
      "Datasets.ipynb\n",
      "Datasets_MPV_Check.ipynb\n",
      "DebugTrainVal.ipynb\n",
      "Debug_Justin.ipynb\n",
      "Fails.ipynb\n",
      "Ghost_Statistics.ipynb\n",
      "GraphSPICE_Inference.ipynb\n",
      "GraphSpice_Edge_Threshold.ipynb\n",
      "Icarus_ACPT_Muons.ipynb\n",
      "Icarus_Michel_electrons.ipynb\n",
      "Icarus_Michel_electrons_Updated.ipynb\n",
      "Icarus_Muon_Residual_Range.ipynb\n",
      "Icarus_Muons_Lifetime.ipynb\n",
      "Icarus_Shower_dEdx.ipynb\n",
      "Icarus_Stopping_Muons.ipynb\n",
      "Icarus_Topology_Statistics_Study.ipynb\n",
      "ME_CPU_Bug.ipynb\n",
      "Metrics.ipynb\n",
      "Metrics_Chain_Ghost.ipynb\n",
      "Metrics_Page.ipynb\n",
      "MinkowskiEngine\n",
      "Misc.ipynb\n",
      "Nue.ipynb\n",
      "Nue_Energy_Study.ipynb\n",
      "Nue_Selection.ipynb\n",
      "Nue_Selection_Update.ipynb\n",
      "Output_Chain_Ghost.ipynb\n",
      "PMT_Michel.ipynb\n",
      "Sofia_dEdx.ipynb\n",
      "Test.ipynb\n",
      "Untitled Folder\n",
      "Untitled.ipynb\n",
      "Untitled1.ipynb\n",
      "Untitled2.ipynb\n",
      "Untitled3.ipynb\n",
      "Untitled4.ipynb\n",
      "Untitled5.ipynb\n",
      "Untitled6.ipynb\n",
      "Untitled7.ipynb\n",
      "Vertex_Resolution.ipynb\n",
      "Visualization.ipynb\n",
      "Visualization_Doublets.ipynb\n",
      "Visualization_DuneND_Workshop.ipynb\n",
      "Visualization_GNNML_Talk_2022.ipynb\n",
      "Visualization_Icarus_Data.ipynb\n",
      "Visualization_ME.ipynb\n",
      "Visualization_ME_Ghost.ipynb\n",
      "Workshop_ICARUS_Michel.ipynb\n",
      "Workshop_ICARUS_Muons.ipynb\n",
      "Workshop_ICARUS_Neutrino.ipynb\n",
      "Workshop_Michel.ipynb\n",
      "Workshop_Muon.ipynb\n",
      "Workshop_Shower_dEdx.ipynb\n",
      "apdata.pl\n",
      "cpu_bug.py\n",
      "dkoh0207\n",
      "felix_lartpc_mlreco3d\n",
      "larcv.root\n",
      "larcv1.root\n",
      "larcv2\n",
      "larcv2.root\n",
      "larcv_mpvmpr.root\n",
      "larcv_nue_ccqe_v00\n",
      "larcv_nue_ccqe_v01\n",
      "larcv_nue_ccqe_v02\n",
      "larcv_nue_ccqe_v04\n",
      "larcv_nue_v01\n",
      "larcv_nue_v02\n",
      "larcv_run5507.root\n",
      "lartpc_mlreco3d\n",
      "lartpc_mlreco3d_tutorials\n",
      "log\n",
      "log_trash\n",
      "michel_flash.csv\n",
      "michel_flash_muplus_062022_v01_0.csv\n",
      "mpvmpr_062021_v00\n",
      "muE_liquid_argon.txt\n",
      "ondemand\n",
      "outreach\n",
      "protons.csv\n",
      "rain.csv\n",
      "run_nue.txt\n",
      "run_nue_largeant.txt\n",
      "sdfgroup\n",
      "slacml-kmi2020\n",
      "stopping_muons_chi2.csv\n",
      "stopping_muons_chi2_data.csv\n",
      "weights\n",
      "weights_trash\n"
     ]
    }
   ],
   "source": [
    "%%bash\n",
    "ls $HOME"
   ]
  },
  {
   "cell_type": "markdown",
   "id": "80340c8f",
   "metadata": {},
   "source": [
    "## Modifyng shell environment\n",
    "Another thing we often feel lazy about is to change the shell environment variable. You can do this within the notebook like shown below (or stop the notebook, change environment value, then restart notebook ... not good for lazy people)."
   ]
  },
  {
   "cell_type": "code",
   "execution_count": 5,
   "id": "1aba5f0f",
   "metadata": {},
   "outputs": [
    {
     "name": "stdout",
     "output_type": "stream",
     "text": [
      "env: CUDA_VISIBLE_DEVICES=0\n"
     ]
    }
   ],
   "source": [
    "%env CUDA_VISIBLE_DEVICES=0"
   ]
  },
  {
   "cell_type": "markdown",
   "id": "966a8072",
   "metadata": {},
   "source": [
    "Now try:"
   ]
  },
  {
   "cell_type": "code",
   "execution_count": 6,
   "id": "975681c9",
   "metadata": {},
   "outputs": [
    {
     "name": "stdout",
     "output_type": "stream",
     "text": [
      "0\r\n"
     ]
    }
   ],
   "source": [
    "! echo $CUDA_VISIBLE_DEVICES"
   ]
  },
  {
   "cell_type": "markdown",
   "id": "d2082ab6",
   "metadata": {},
   "source": [
    "_Voila!_ (you should see `0`) ... but note, the following is not the same:"
   ]
  },
  {
   "cell_type": "code",
   "execution_count": 7,
   "id": "8ba6482f",
   "metadata": {},
   "outputs": [],
   "source": [
    "! export CUDA_VISIBLE_DEVICES=1"
   ]
  },
  {
   "cell_type": "markdown",
   "id": "595d6665",
   "metadata": {},
   "source": [
    "Let's check:"
   ]
  },
  {
   "cell_type": "code",
   "execution_count": 8,
   "id": "d9beb865",
   "metadata": {},
   "outputs": [
    {
     "name": "stdout",
     "output_type": "stream",
     "text": [
      "0\r\n"
     ]
    }
   ],
   "source": [
    "! echo $CUDA_VISIBLE_DEVICES"
   ]
  },
  {
   "cell_type": "markdown",
   "id": "08c83b65",
   "metadata": {},
   "source": [
    "You should get `0`, and that's because `! export ` executes the command in a _sub-shell_ and the scope is only within the cell.\n",
    "\n",
    "## Run a python script\n",
    "`%run` is a handy command to run a python script (or even jupyter notebook actually!). Let's create a simply python script."
   ]
  },
  {
   "cell_type": "code",
   "execution_count": 9,
   "id": "92bc916a",
   "metadata": {},
   "outputs": [],
   "source": [
    "! echo \"print('hello world!')\" >> hello.py"
   ]
  },
  {
   "cell_type": "markdown",
   "id": "6423a3cb",
   "metadata": {},
   "source": [
    "and run it:"
   ]
  },
  {
   "cell_type": "code",
   "execution_count": 10,
   "id": "ef716611",
   "metadata": {},
   "outputs": [
    {
     "name": "stdout",
     "output_type": "stream",
     "text": [
      "hello world!\n",
      "hello world!\n",
      "hello world!\n",
      "hello world!\n",
      "hello world!\n",
      "hello world!\n",
      "hello world!\n",
      "hello world!\n",
      "hello world!\n",
      "hello world!\n",
      "hello world!\n",
      "hello world!\n",
      "hello world!\n",
      "hello world!\n",
      "hello world!\n",
      "hello world!\n"
     ]
    }
   ],
   "source": [
    "%run hello.py"
   ]
  },
  {
   "cell_type": "markdown",
   "id": "8d2300fb",
   "metadata": {},
   "source": [
    "## Time your program\n",
    "You have a code execution cell and want to measure how much time it takes. Sure you can add such profiling feature to your code, but here's how you can do in the notebook using `%%time`."
   ]
  },
  {
   "cell_type": "code",
   "execution_count": 11,
   "id": "a8f90ed1",
   "metadata": {},
   "outputs": [
    {
     "name": "stdout",
     "output_type": "stream",
     "text": [
      "CPU times: user 3.12 ms, sys: 3.09 ms, total: 6.21 ms\n",
      "Wall time: 5.27 ms\n"
     ]
    }
   ],
   "source": [
    "%%time\n",
    "import numpy as np\n",
    "sum = np.sum(np.ones([1000,1000],dtype=np.float32))"
   ]
  },
  {
   "cell_type": "markdown",
   "id": "8d43eb06",
   "metadata": {},
   "source": [
    "## Latex\n",
    "Jupyter supports `MathJax`, and also you can just run latex"
   ]
  },
  {
   "cell_type": "code",
   "execution_count": 12,
   "id": "04f620e7",
   "metadata": {},
   "outputs": [
    {
     "data": {
      "text/latex": [
       "\n",
       "I have to write a formula like $\\sin^22\\theta\\left(\\frac{1.27\\Delta m^2L}{E_\\nu}\\right)$ to get Ph.D.\n"
      ],
      "text/plain": [
       "<IPython.core.display.Latex object>"
      ]
     },
     "metadata": {},
     "output_type": "display_data"
    }
   ],
   "source": [
    "%%latex\n",
    "\n",
    "I have to write a formula like $\\sin^22\\theta\\left(\\frac{1.27\\Delta m^2L}{E_\\nu}\\right)$ to get Ph.D."
   ]
  },
  {
   "cell_type": "markdown",
   "id": "621cad35",
   "metadata": {},
   "source": [
    "## Executing a web script\n",
    "Well, all of these fun things are running using `javascript` on `html`... can we run our own webscript execution command? Sure we can! Here's an example to hide all Jupyter code blocks using that feature."
   ]
  },
  {
   "cell_type": "code",
   "execution_count": 13,
   "id": "d98b39cf",
   "metadata": {},
   "outputs": [
    {
     "data": {
      "text/html": [
       "<script>\n",
       "code_show=false; \n",
       "function code_toggle() {\n",
       " if (code_show){\n",
       " $('div.input').hide();\n",
       " } else {\n",
       " $('div.input').show();\n",
       " }\n",
       " code_show = !code_show\n",
       "} \n",
       "$( document ).ready(code_toggle);\n",
       "</script>\n",
       "To toggle on/off the raw code, click <a href=\"javascript:code_toggle()\">here</a>."
      ],
      "text/plain": [
       "<IPython.core.display.HTML object>"
      ]
     },
     "execution_count": 13,
     "metadata": {},
     "output_type": "execute_result"
    }
   ],
   "source": [
    "from IPython.display import HTML\n",
    "HTML('''<script>\n",
    "code_show=false; \n",
    "function code_toggle() {\n",
    " if (code_show){\n",
    " $('div.input').hide();\n",
    " } else {\n",
    " $('div.input').show();\n",
    " }\n",
    " code_show = !code_show\n",
    "} \n",
    "$( document ).ready(code_toggle);\n",
    "</script>\n",
    "To toggle on/off the raw code, click <a href=\"javascript:code_toggle()\">here</a>.''')"
   ]
  }
 ],
 "metadata": {
  "jupytext": {
   "cell_metadata_filter": "-all",
   "formats": "md:myst",
   "text_representation": {
    "extension": ".md",
    "format_name": "myst",
    "format_version": 0.13,
    "jupytext_version": "1.10.3"
   }
  },
  "kernelspec": {
   "display_name": "Python 3",
   "language": "python",
   "name": "python3"
  },
  "language_info": {
   "codemirror_mode": {
    "name": "ipython",
    "version": 3
   },
   "file_extension": ".py",
   "mimetype": "text/x-python",
   "name": "python",
   "nbconvert_exporter": "python",
   "pygments_lexer": "ipython3",
   "version": "3.8.10"
  },
  "source_map": [
   14,
   29,
   31,
   35,
   39,
   46,
   48,
   55,
   58,
   63,
   65,
   68,
   70,
   74,
   76,
   79,
   81,
   88,
   90,
   93,
   95,
   100,
   104,
   109,
   113,
   119
  ]
 },
 "nbformat": 4,
 "nbformat_minor": 5
}