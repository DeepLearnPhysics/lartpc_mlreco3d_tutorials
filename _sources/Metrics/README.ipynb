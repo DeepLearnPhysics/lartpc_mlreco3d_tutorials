{
 "cells": [
  {
   "cell_type": "markdown",
   "id": "639217f8",
   "metadata": {},
   "source": [
    "# Shared metrics\n",
    "\n",
    "These pages are meant to share **reproducible metrics** for each stage of the\n",
    "full chain. Feel free to open them in Binder to customize the visualization.\n",
    "\n",
    "There are currently two types of shared metrics:\n",
    "* [Raw](./Raw.md) means that we look directly at the output of the full chain, without\n",
    "any intermediate (which can introduce biases and bugs of their own)\n",
    "* [Analysis](./Analysis.md) means that we look at the metrics using the so-called analysis\n",
    "tools of the full chain, which are meant to make its output more digestible\n",
    "and user-friendly. They can have their own underlying assumptions (e.g.\n",
    "minimum particle voxel count, etc) so this should be considered separately\n",
    "from the \"raw\" metrics.\n",
    "\n",
    "```{note} What if my results disagree with the metrics shown here?\n",
    "\n",
    "Please contact us if your analysis leads to a very different performance!\n",
    "Feedback is welcome, it's an opportunity to understand what might have\n",
    "gone wrong in the reconstruction chain, potentially.\n",
    "```\n",
    "\n",
    "\n",
    "\n",
    "```{toctree}\n",
    ":hidden:\n",
    ":titlesonly:\n",
    "\n",
    "\n",
    "Raw.md\n",
    "Analysis.md\n",
    "```"
   ]
  }
 ],
 "metadata": {
  "execution": {
   "timeout": 180
  },
  "jupytext": {
   "text_representation": {
    "extension": ".md",
    "format_name": "myst",
    "format_version": 0.13,
    "jupytext_version": "1.10.3"
   }
  },
  "kernelspec": {
   "display_name": "Python 3 (ipykernel)",
   "language": "python",
   "name": "python3"
  },
  "language_info": {
   "codemirror_mode": {
    "name": "ipython",
    "version": 3
   },
   "file_extension": ".py",
   "mimetype": "text/x-python",
   "name": "python",
   "nbconvert_exporter": "python",
   "pygments_lexer": "ipython3",
   "version": "3.8.10"
  },
  "source_map": [
   14
  ]
 },
 "nbformat": 4,
 "nbformat_minor": 5
}