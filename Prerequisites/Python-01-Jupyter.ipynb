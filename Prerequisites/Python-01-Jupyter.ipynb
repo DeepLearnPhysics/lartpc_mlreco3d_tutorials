{
 "cells": [
  {
   "cell_type": "markdown",
   "metadata": {},
   "source": [
    "# Notebook of code\n",
    "\n",
    "Probably many of you know know this software better than I know :) but let's share 5 minutes together to make sure we all are on the same page. \n",
    "\n",
    "Jupyter notebook (formerly known as IPython notebook) has been developed for the concept of _literate programming_ and it has become extremely popular within last seveal years ([article on Nature](https://www.nature.com/news/interactive-notebooks-sharing-the-code-1.16261)). As its name says (\"notebook\"), it is designed for users to program with readability and modularization in mind. \n",
    "\n",
    "In a notebook, individual block of code execution is done within a _cell_. All cells in the same notebook live within the same process and namespace scope. You can put explanation of the code (or beyond, like physics for which the code is developed) in a _markdown_ cell. Such explanation can go per code cell. We don't write a software in a notebook, but usually a higher level program (such as _main_ function) with an explanation of what's going on.\n",
    "\n",
    "Though originally developed for Julia, Python and R (hence \"Jupyter\"), now it supports all kinds of programming language including shell and even fortran(!). Many scientific blog posts are also done in a notebook and blogs to teach you about Jupyter (like [this one](http://arogozhnikov.github.io/2016/09/10/jupyter-features.html#Writing-formulae-in-latex)).\n",
    "\n",
    "## Default code engine\n",
    "When you start a notebook, you choose the default backend of the notebook. Pick Python3!"
   ]
  },
  {
   "cell_type": "code",
   "execution_count": 1,
   "metadata": {},
   "outputs": [],
   "source": [
    "import numpy as np"
   ]
  },
  {
   "cell_type": "markdown",
   "metadata": {},
   "source": [
    "Note that the state of the process are shared among cells. What I just imported is accessible in the next cell."
   ]
  },
  {
   "cell_type": "code",
   "execution_count": 2,
   "metadata": {},
   "outputs": [
    {
     "name": "stdout",
     "output_type": "stream",
     "text": [
      "<module 'numpy' from '/usr/local/lib/python3.6/dist-packages/numpy/__init__.py'>\n"
     ]
    }
   ],
   "source": [
    "print(np)\n",
    "np='foo' # after you execute this cell, np no longer points to numpy module"
   ]
  },
  {
   "cell_type": "markdown",
   "metadata": {},
   "source": [
    "... which means the execution order of cells matter (yes, you can execute whichever cell in any order you want). The object `np` no longer points to a numpy module."
   ]
  },
  {
   "cell_type": "code",
   "execution_count": 3,
   "metadata": {},
   "outputs": [
    {
     "name": "stdout",
     "output_type": "stream",
     "text": [
      "foo\n"
     ]
    }
   ],
   "source": [
    "print(np)"
   ]
  },
  {
   "cell_type": "markdown",
   "metadata": {},
   "source": [
    "## Shell commands\n",
    "You can run shell commands with `!` in front."
   ]
  },
  {
   "cell_type": "code",
   "execution_count": 4,
   "metadata": {},
   "outputs": [
    {
     "name": "stdout",
     "output_type": "stream",
     "text": [
      "Untitled.ipynb\tUntitled1.ipynb  ondemand  slacml-school  tmp_slacml\r\n"
     ]
    }
   ],
   "source": [
    "!ls $HOME"
   ]
  },
  {
   "cell_type": "markdown",
   "metadata": {},
   "source": [
    "So if you want to install another python module and feel lazy, you can just execute `!pip install --user whatever` within a cell. \n",
    "\n",
    "## Different language\n",
    "You can switch to a different language within a cell by specifying with `%%`, given that the language is supported by your environment. The software container we use doesn't have much options, but we got bash ;)"
   ]
  },
  {
   "cell_type": "code",
   "execution_count": 5,
   "metadata": {},
   "outputs": [
    {
     "name": "stdout",
     "output_type": "stream",
     "text": [
      "Untitled.ipynb\n",
      "Untitled1.ipynb\n",
      "ondemand\n",
      "slacml-school\n",
      "tmp_slacml\n"
     ]
    }
   ],
   "source": [
    "%%bash\n",
    "ls $HOME"
   ]
  },
  {
   "cell_type": "markdown",
   "metadata": {},
   "source": [
    "## Modifyng shell environment\n",
    "Another thing we often feel lazy about is to change the shell environment variable. You can do this within the notebook like shown below (or stop the notebook, change environment value, then restart notebook ... not good for lazy people)."
   ]
  },
  {
   "cell_type": "code",
   "execution_count": 6,
   "metadata": {},
   "outputs": [
    {
     "name": "stdout",
     "output_type": "stream",
     "text": [
      "env: CUDA_VISIBLE_DEVICES=0\n"
     ]
    }
   ],
   "source": [
    "%env CUDA_VISIBLE_DEVICES=0"
   ]
  },
  {
   "cell_type": "code",
   "execution_count": 7,
   "metadata": {},
   "outputs": [
    {
     "name": "stdout",
     "output_type": "stream",
     "text": [
      "0\r\n"
     ]
    }
   ],
   "source": [
    "! echo $CUDA_VISIBLE_DEVICES"
   ]
  },
  {
   "cell_type": "markdown",
   "metadata": {},
   "source": [
    "_Voila!_ ... but note, the following is not the same "
   ]
  },
  {
   "cell_type": "code",
   "execution_count": 8,
   "metadata": {},
   "outputs": [],
   "source": [
    "! export CUDA_VISIBLE_DEVICES=1"
   ]
  },
  {
   "cell_type": "markdown",
   "metadata": {},
   "source": [
    "Let's check."
   ]
  },
  {
   "cell_type": "code",
   "execution_count": 9,
   "metadata": {},
   "outputs": [
    {
     "name": "stdout",
     "output_type": "stream",
     "text": [
      "0\r\n"
     ]
    }
   ],
   "source": [
    "! echo $CUDA_VISIBLE_DEVICES"
   ]
  },
  {
   "cell_type": "markdown",
   "metadata": {},
   "source": [
    "... and that's because `! export ` executes the command in a _sub-shell_ and the scope is only within the cell."
   ]
  },
  {
   "cell_type": "markdown",
   "metadata": {},
   "source": [
    "## Run a python script\n",
    "`%run` is a handy command to run another python script (or even jupyter notebook actually!)"
   ]
  },
  {
   "cell_type": "code",
   "execution_count": 10,
   "metadata": {},
   "outputs": [
    {
     "name": "stdout",
     "output_type": "stream",
     "text": [
      "square root of 2 is 1.4142135623730951\n"
     ]
    }
   ],
   "source": [
    "%run sqrt2.py"
   ]
  },
  {
   "cell_type": "markdown",
   "metadata": {},
   "source": [
    "## Time your program\n",
    "You have a code execution cell and want to measure how much time it takes. Sure you can add such profiling feature to your code, but here's how you can do in the notebook using `%%time`."
   ]
  },
  {
   "cell_type": "code",
   "execution_count": 11,
   "metadata": {},
   "outputs": [
    {
     "name": "stdout",
     "output_type": "stream",
     "text": [
      "CPU times: user 782 µs, sys: 4.45 ms, total: 5.23 ms\n",
      "Wall time: 4.17 ms\n"
     ]
    }
   ],
   "source": [
    "%%time\n",
    "import numpy as np\n",
    "sum = np.sum(np.ones([1000,1000],dtype=np.float32))"
   ]
  },
  {
   "cell_type": "markdown",
   "metadata": {},
   "source": [
    "## Latex\n",
    "Jupyter supports `MathJax`:"
   ]
  },
  {
   "cell_type": "markdown",
   "metadata": {},
   "source": [
    "I have to write a formula like $$ \\sin^22\\theta\\left(\\frac{1.27\\Delta m^2L}{E_\\nu}\\right) $$ to get my Ph.D."
   ]
  },
  {
   "cell_type": "markdown",
   "metadata": {},
   "source": [
    " ... or you can also just type `%%latex` in the cell to \"execute latex code\" :)"
   ]
  },
  {
   "cell_type": "code",
   "execution_count": 12,
   "metadata": {},
   "outputs": [
    {
     "data": {
      "text/latex": [
       "\n",
       "I have to write a formula like $\\sin^22\\theta\\left(\\frac{1.27\\Delta m^2L}{E_\\nu}\\right)$ to get Ph.D.\n"
      ],
      "text/plain": [
       "<IPython.core.display.Latex object>"
      ]
     },
     "metadata": {},
     "output_type": "display_data"
    }
   ],
   "source": [
    "%%latex\n",
    "\n",
    "I have to write a formula like $\\sin^22\\theta\\left(\\frac{1.27\\Delta m^2L}{E_\\nu}\\right)$ to get Ph.D."
   ]
  },
  {
   "cell_type": "markdown",
   "metadata": {},
   "source": [
    "from IPython.display import HTML\n",
    "HTML('''<script>\n",
    "code_show=false; \n",
    "function code_toggle() {\n",
    " if (code_show){\n",
    " $('div.input').hide();\n",
    " } else {\n",
    " $('div.input').show();\n",
    " }\n",
    " code_show = !code_show\n",
    "} \n",
    "$( document ).ready(code_toggle);\n",
    "</script>\n",
    "To toggle on/off the raw code, click <a href=\"javascript:code_toggle()\">here</a>.''')"
   ]
  },
  {
   "cell_type": "markdown",
   "metadata": {},
   "source": [
    "## Executing a web script\n",
    "Well, all of these fun things are running using `javascript` on `html`... can we run our own webscript execution command? Sure we can! Here's an example to hide all Jupyter code blocks using that feature.\n"
   ]
  },
  {
   "cell_type": "code",
   "execution_count": 13,
   "metadata": {},
   "outputs": [
    {
     "data": {
      "text/html": [
       "<script>\n",
       "code_show=false; \n",
       "function code_toggle() {\n",
       " if (code_show){\n",
       " $('div.input').hide();\n",
       " } else {\n",
       " $('div.input').show();\n",
       " }\n",
       " code_show = !code_show\n",
       "} \n",
       "$( document ).ready(code_toggle);\n",
       "</script>\n",
       "To toggle on/off the raw code, click <a href=\"javascript:code_toggle()\">here</a>."
      ],
      "text/plain": [
       "<IPython.core.display.HTML object>"
      ]
     },
     "execution_count": 13,
     "metadata": {},
     "output_type": "execute_result"
    }
   ],
   "source": [
    "from IPython.display import HTML\n",
    "HTML('''<script>\n",
    "code_show=false; \n",
    "function code_toggle() {\n",
    " if (code_show){\n",
    " $('div.input').hide();\n",
    " } else {\n",
    " $('div.input').show();\n",
    " }\n",
    " code_show = !code_show\n",
    "} \n",
    "$( document ).ready(code_toggle);\n",
    "</script>\n",
    "To toggle on/off the raw code, click <a href=\"javascript:code_toggle()\">here</a>.''')"
   ]
  }
 ],
 "metadata": {
  "kernelspec": {
   "display_name": "Python 3",
   "language": "python",
   "name": "python3"
  },
  "language_info": {
   "codemirror_mode": {
    "name": "ipython",
    "version": 3
   },
   "file_extension": ".py",
   "mimetype": "text/x-python",
   "name": "python",
   "nbconvert_exporter": "python",
   "pygments_lexer": "ipython3",
   "version": "3.6.9"
  }
 },
 "nbformat": 4,
 "nbformat_minor": 4
}
