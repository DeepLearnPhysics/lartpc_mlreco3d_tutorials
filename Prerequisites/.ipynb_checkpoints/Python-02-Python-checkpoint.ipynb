{
 "cells": [
  {
   "cell_type": "markdown",
   "metadata": {},
   "source": [
    "# Introduction to Python"
   ]
  },
  {
   "cell_type": "markdown",
   "metadata": {},
   "source": [
    "Python is a modern, object-oriented scripting language. \n",
    "Developed in the late 1980s by Dutch research programmer Guido van Rossum. Guido wrote the first Python interpreter over his Christmas holiday in 1989. Guido remains Python's principal author to this day. The Python community refers to him as BDFL, Benevolent Dictator For Life. It is named after \"Monty Python's Flying Circus\" because of its developers' intent that programming should be fun.\n",
    "\n",
    "**Python's core philosophy**: \n",
    "- Beautiful is better than ugly. \n",
    "- It's always a good idea to make your code elegant and readable. \n",
    "- Explicit is better than implicit. Don't make your readers guess what your code does, make it obvious. \n",
    "- Simple is better than complex. If you can make it simple, do. \n",
    "- Complex is better than complicated. If complexity is necessary, don't complicate it. \n",
    "- Readability counts. \n",
    "\n",
    "As a casual reader with a good understanding of the Python language, you should be able to understand the code with a minimal amount of effort. For complete philosophy, simply execute a command `import this`.  Python 3 is very close to Guido's ideal vision for Python. \n",
    "\n",
    "**Python is a rich language**, and it would be impossible to cover all of it in just one hour. But the online documentation is both accessible and exhaustive. \n",
    "\n",
    "**Python is a very powerful and versatile language.** It's supported on virtually all common operating systems and it's easy to learn and to support. \n",
    "\n",
    "<img src=\"logos/python-powered-h-140x182.png\">\n",
    "\n",
    "This notebook is partially taken from a [tutorial](https://github.com/marcodeltutto/Python-Tutorial-SBN-Workshop) by Marco Del Tutto for an introductory workshop."
   ]
  },
  {
   "cell_type": "markdown",
   "metadata": {},
   "source": [
    "## Hello World"
   ]
  },
  {
   "cell_type": "code",
   "execution_count": 1,
   "metadata": {},
   "outputs": [
    {
     "name": "stdout",
     "output_type": "stream",
     "text": [
      "Hello world!\n"
     ]
    }
   ],
   "source": [
    "print('Hello world!')"
   ]
  },
  {
   "cell_type": "markdown",
   "metadata": {},
   "source": [
    "## Import a module from the Python library"
   ]
  },
  {
   "cell_type": "code",
   "execution_count": 2,
   "metadata": {},
   "outputs": [
    {
     "name": "stdout",
     "output_type": "stream",
     "text": [
      "We are using python 3.6.9\n"
     ]
    }
   ],
   "source": [
    "import platform\n",
    "print('We are using python', platform.python_version())"
   ]
  },
  {
   "cell_type": "markdown",
   "metadata": {},
   "source": [
    "## Wait, what is \"import\"?\n",
    "`import` is used to load a python _module_, and is probably the most important syntax in Python. A _module_ is a predefined set of tools (i.e. constants, functions, classes). In other languages, it's called sometimes a _package_ or a _library_. If you are familiar with C++ compiler, you could consider `import` close to `#include` preprocessor directive.\n",
    "\n",
    "The syntax to load a certain module named `X` goes by `import X`. So in the above cell, we imported a module named `platform` which includes information about the very Python kernel we are running this program on.\n",
    "\n",
    "Let's try another one."
   ]
  },
  {
   "cell_type": "code",
   "execution_count": 3,
   "metadata": {},
   "outputs": [
    {
     "data": {
      "text/plain": [
       "3.141592653589793"
      ]
     },
     "execution_count": 3,
     "metadata": {},
     "output_type": "execute_result"
    }
   ],
   "source": [
    "import math\n",
    "math.pi"
   ]
  },
  {
   "cell_type": "markdown",
   "metadata": {},
   "source": [
    "**You can define your own module, and it's a good thing.** As you become more mature with Python (literally by the end of this notebook), you start defining many useful functions and may want to organize them under your own module name like `DanielRatnerLoveThis`. That's natural! We come back to this later in this notebook. "
   ]
  },
  {
   "cell_type": "markdown",
   "metadata": {},
   "source": [
    "## Datatypes\n",
    "\n",
    "There are just a few fundamental data types in Python.\n",
    "\n",
    "Python is designed to be extensible so it's easy to create your own types within its object system."
   ]
  },
  {
   "cell_type": "code",
   "execution_count": 4,
   "metadata": {},
   "outputs": [
    {
     "name": "stdout",
     "output_type": "stream",
     "text": [
      "<class 'int'>\n",
      "<class 'float'>\n",
      "<class 'complex'>\n",
      "<class 'str'>\n",
      "<class 'bool'>\n",
      "<class 'NoneType'>\n"
     ]
    }
   ],
   "source": [
    "x = 7\n",
    "print(type(x))\n",
    "\n",
    "x = 7.0\n",
    "print(type(x))\n",
    "\n",
    "x = 1+2j\n",
    "print(type(x))\n",
    "\n",
    "x = '7'\n",
    "print(type(x))\n",
    "\n",
    "x = True\n",
    "print(type(x))\n",
    "\n",
    "x = None\n",
    "print(type(x))"
   ]
  },
  {
   "cell_type": "markdown",
   "metadata": {},
   "source": [
    "There is no `double` in Python. A `float` in Python has double precision (like a `double` in C). "
   ]
  },
  {
   "cell_type": "markdown",
   "metadata": {},
   "source": [
    "### Strings\n",
    "\n",
    "Strings are objects, even literal strings. Here we start with literal string, the `'neutrino'` in quotes.\n",
    "Since this is an object, we can run methods on it. Let's start with `capitalize()` here. "
   ]
  },
  {
   "cell_type": "code",
   "execution_count": 5,
   "metadata": {},
   "outputs": [
    {
     "name": "stdout",
     "output_type": "stream",
     "text": [
      "neutrino\n",
      "Neutrino\n",
      "NEUTRINO\n",
      "neutrino\n"
     ]
    }
   ],
   "source": [
    "x = 'neutrino'\n",
    "print(x)\n",
    "\n",
    "print(x.capitalize())\n",
    "\n",
    "print(x.upper())\n",
    "\n",
    "print(x.upper().lower())"
   ]
  },
  {
   "cell_type": "markdown",
   "metadata": {},
   "source": [
    "You can treat strings as _array-like objects_ and access them using indexes with `[2]` to access the third index for example: "
   ]
  },
  {
   "cell_type": "code",
   "execution_count": 6,
   "metadata": {},
   "outputs": [
    {
     "data": {
      "text/plain": [
       "'r'"
      ]
     },
     "execution_count": 6,
     "metadata": {},
     "output_type": "execute_result"
    }
   ],
   "source": [
    "# EXCERCISE: Access the fifth index of the above string\n",
    "\n",
    "x[4]"
   ]
  },
  {
   "cell_type": "markdown",
   "metadata": {},
   "source": [
    "You can print a string with the `print` function, and format it to also show values:"
   ]
  },
  {
   "cell_type": "code",
   "execution_count": 7,
   "metadata": {},
   "outputs": [
    {
     "name": "stdout",
     "output_type": "stream",
     "text": [
      "We currently know there are 3 neutrinos.\n",
      "Or maybe there are more than 3?\n"
     ]
    }
   ],
   "source": [
    "n_neutrinos = 3\n",
    "x = 'We currently know there are {} neutrinos.'.format(n_neutrinos)\n",
    "print(x)\n",
    "\n",
    "# Or even easier with f-strings (Python >= 3.6)\n",
    "x = f'Or maybe there are more than {n_neutrinos}?'\n",
    "print(x)"
   ]
  },
  {
   "cell_type": "markdown",
   "metadata": {},
   "source": [
    "### Lists\n",
    "Lists in Python represent ordered sequences of values. Here is an example:"
   ]
  },
  {
   "cell_type": "code",
   "execution_count": 8,
   "metadata": {
    "jupyter": {
     "outputs_hidden": true
    }
   },
   "outputs": [],
   "source": [
    "particles = ['up', 'down', 'electron', 'electron_neutrino',\n",
    "             'charm', 'strange', 'muon', 'muon_neutrino', \n",
    "             'top', 'bottom', 'tau', 'tau_neutrino',\n",
    "             'gluon', 'photon', 'z', 'w',\n",
    "             'higgs']\n",
    "\n",
    "masses = [2.2, 4.7, 0.511, 'less than 1 eV',\n",
    "          1.28, 96, 105.66, 'less than 0.17 eV',\n",
    "          173e3, 4.18e3, 1.78e3, 'less than 18.2 eV',\n",
    "          0, 0, 91.19e3, 80.39e3,\n",
    "          124.97e3]"
   ]
  },
  {
   "cell_type": "markdown",
   "metadata": {},
   "source": [
    "Lists: `[]` - mutable\n",
    "\n",
    "Tuples: `()` - unmutable\n",
    "\n",
    "Here are some useful operations that can be applied on lists."
   ]
  },
  {
   "cell_type": "code",
   "execution_count": 9,
   "metadata": {},
   "outputs": [
    {
     "name": "stdout",
     "output_type": "stream",
     "text": [
      "strange\n"
     ]
    }
   ],
   "source": [
    "# Indexing\n",
    "print(particles[5])"
   ]
  },
  {
   "cell_type": "markdown",
   "metadata": {},
   "source": [
    "You can use negative indexes too. Negative indexes start counting from the end."
   ]
  },
  {
   "cell_type": "code",
   "execution_count": 10,
   "metadata": {},
   "outputs": [
    {
     "name": "stdout",
     "output_type": "stream",
     "text": [
      "higgs\n",
      "w\n"
     ]
    }
   ],
   "source": [
    "# EXERCISE: Try to slice the particle array with negative indexes.\n",
    "print(particles[-1])\n",
    "print(particles[-2])"
   ]
  },
  {
   "cell_type": "markdown",
   "metadata": {},
   "source": [
    "You can also \"slice\" lists. More details on this will be given in the next notebook on numpy"
   ]
  },
  {
   "cell_type": "code",
   "execution_count": 11,
   "metadata": {},
   "outputs": [
    {
     "name": "stdout",
     "output_type": "stream",
     "text": [
      "['down', 'electron', 'electron_neutrino', 'charm', 'strange', 'muon', 'muon_neutrino', 'top', 'bottom', 'tau', 'tau_neutrino', 'gluon', 'photon', 'z', 'w', 'higgs']\n",
      "['electron', 'electron_neutrino']\n"
     ]
    }
   ],
   "source": [
    "# From the first element to the end\n",
    "print(particles[1:])\n",
    "\n",
    "# From the second to the fourth element \n",
    "print(particles[2:4])"
   ]
  },
  {
   "cell_type": "markdown",
   "metadata": {},
   "source": [
    "With `len` you can get the lenght of the vector:"
   ]
  },
  {
   "cell_type": "code",
   "execution_count": 12,
   "metadata": {},
   "outputs": [
    {
     "name": "stdout",
     "output_type": "stream",
     "text": [
      "17\n"
     ]
    }
   ],
   "source": [
    "# Lenght\n",
    "print(len(particles))"
   ]
  },
  {
   "cell_type": "markdown",
   "metadata": {},
   "source": [
    "### Dictionaries\n",
    "Dictionaries are a built-in Python data structure for mapping keys to values."
   ]
  },
  {
   "cell_type": "code",
   "execution_count": 13,
   "metadata": {},
   "outputs": [
    {
     "data": {
      "text/plain": [
       "{'electron_neutrino': 0, 'muon_neutrino': 0, 'tau_neutrino': 0}"
      ]
     },
     "execution_count": 13,
     "metadata": {},
     "output_type": "execute_result"
    }
   ],
   "source": [
    "par_to_mass = {'electron_neutrino': 0, \n",
    "               'muon_neutrino': 0,\n",
    "               'tau_neutrino': 0}\n",
    "par_to_mass"
   ]
  },
  {
   "cell_type": "code",
   "execution_count": 14,
   "metadata": {},
   "outputs": [
    {
     "name": "stdout",
     "output_type": "stream",
     "text": [
      "Electron-neutrino mass is 0\n",
      "No, we only know it is less than 1 eV\n"
     ]
    }
   ],
   "source": [
    "# Query a dictionary\n",
    "print('Electron-neutrino mass is', par_to_mass['electron_neutrino'])\n",
    "\n",
    "# Change a value\n",
    "par_to_mass['electron_neutrino'] = 'less than 1 eV'\n",
    "print('No, we only know it is', par_to_mass['electron_neutrino'])"
   ]
  },
  {
   "cell_type": "markdown",
   "metadata": {},
   "source": [
    "`get()` is a useful function that can set a default return value if a specified key does not exist."
   ]
  },
  {
   "cell_type": "code",
   "execution_count": 15,
   "metadata": {},
   "outputs": [
    {
     "data": {
      "text/plain": [
       "'very heavy'"
      ]
     },
     "execution_count": 15,
     "metadata": {},
     "output_type": "execute_result"
    }
   ],
   "source": [
    "par_to_mass.get('kazu','very heavy')"
   ]
  },
  {
   "cell_type": "code",
   "execution_count": 16,
   "metadata": {
    "jupyter": {
     "outputs_hidden": true
    }
   },
   "outputs": [],
   "source": [
    "# Let's construct the full dictionary to go from particles to masses\n",
    "par_to_mass = {}\n",
    "for p, m in zip(particles, masses):\n",
    "    par_to_mass[p] = m"
   ]
  },
  {
   "cell_type": "markdown",
   "metadata": {},
   "source": [
    "To retrieve a list of keys and/or values from a dictionary:\n",
    "- `.items()` applied to a dictionary return a pair of keys and values\n",
    "- `.keys()` applied to a dictionary return all the keys\n",
    "- `.values()` applied to a dictionary return all the values\n",
    "\n",
    "Let's try looping over all key-value pairs using `items()`."
   ]
  },
  {
   "cell_type": "code",
   "execution_count": 17,
   "metadata": {},
   "outputs": [
    {
     "name": "stdout",
     "output_type": "stream",
     "text": [
      "up 2.2\n",
      "down 4.7\n",
      "electron 0.511\n",
      "electron_neutrino less than 1 eV\n",
      "charm 1.28\n",
      "strange 96\n",
      "muon 105.66\n",
      "muon_neutrino less than 0.17 eV\n",
      "top 173000.0\n",
      "bottom 4180.0\n",
      "tau 1780.0\n",
      "tau_neutrino less than 18.2 eV\n",
      "gluon 0\n",
      "photon 0\n",
      "z 91190.0\n",
      "w 80390.0\n",
      "higgs 124970.0\n"
     ]
    }
   ],
   "source": [
    "for key, value in par_to_mass.items():\n",
    "    print(key, value)\n",
    "# for key in par_to_mass.keys():\n",
    "#     print(key)\n",
    "# for value in par_to_mass.values():\n",
    "#     print(value)"
   ]
  },
  {
   "cell_type": "markdown",
   "metadata": {},
   "source": [
    "The `in` operator allows to check is a key is in the dictionary."
   ]
  },
  {
   "cell_type": "code",
   "execution_count": 18,
   "metadata": {},
   "outputs": [
    {
     "name": "stdout",
     "output_type": "stream",
     "text": [
      "Do I know the mass of Marco? False\n"
     ]
    }
   ],
   "source": [
    "# EXCERCISE: Try to use \"in\" to check is a key is in the dictionary\n",
    "print('Do I know the mass of Marco?', 'Marco' in par_to_mass)"
   ]
  },
  {
   "cell_type": "markdown",
   "metadata": {},
   "source": [
    "### Lists and Dictionaries: Conclusions"
   ]
  },
  {
   "cell_type": "markdown",
   "metadata": {},
   "source": [
    "Python provides a number of collection types useful for creating structured data. \n",
    "\n",
    "- The *list* type is a basic sequence. It's created using a pair of square brackets around a list of **objects** separated by commas. The list is mutable, which means that you may add, delete, and change values.\n",
    "\n",
    "- A *dictionary* is a sequence of key-value pairs. In other languages, this may be called an associative array or a hashed array. It is indicated with curly brackets. \n",
    "\n",
    "- A *tuple* is like a list, but it's immutable. You cannot change it once it's been created. A tuple is created using parentheses. \n",
    "\n",
    "- A *set* is is an unordered list of unique values. It's useful for finding and operating upon unique values within a sequence. \n",
    "\n",
    "Any of these collection types may contain any object or type. "
   ]
  },
  {
   "cell_type": "markdown",
   "metadata": {},
   "source": [
    "## Blocks and Functions"
   ]
  },
  {
   "cell_type": "markdown",
   "metadata": {},
   "source": [
    "Functions are the basic unit of reusable code in Python. So, let's take a look at how they work.\n",
    "A couple of examples of functions in python: `round` and `abs`:"
   ]
  },
  {
   "cell_type": "code",
   "execution_count": 19,
   "metadata": {},
   "outputs": [
    {
     "name": "stdout",
     "output_type": "stream",
     "text": [
      "x = 3\n",
      "y = 4\n"
     ]
    }
   ],
   "source": [
    "x = round(3.2)\n",
    "y = round(3.6)\n",
    "print('x =', x)\n",
    "print('y =', y)"
   ]
  },
  {
   "cell_type": "markdown",
   "metadata": {},
   "source": [
    "The `help()` function is possibly the most important Python function you can learn."
   ]
  },
  {
   "cell_type": "code",
   "execution_count": 20,
   "metadata": {},
   "outputs": [
    {
     "name": "stdout",
     "output_type": "stream",
     "text": [
      "Help on built-in function round in module builtins:\n",
      "\n",
      "round(...)\n",
      "    round(number[, ndigits]) -> number\n",
      "    \n",
      "    Round a number to a given precision in decimal digits (default 0 digits).\n",
      "    This returns an int when called with one argument, otherwise the\n",
      "    same type as the number. ndigits may be negative.\n",
      "\n"
     ]
    }
   ],
   "source": [
    "help(round)"
   ]
  },
  {
   "cell_type": "code",
   "execution_count": 21,
   "metadata": {
    "jupyter": {
     "outputs_hidden": true
    }
   },
   "outputs": [],
   "source": [
    "# EXCERCISE:\n",
    "# You can also get help in jupyter by using `?`. Try `round?`\n",
    "\n"
   ]
  },
  {
   "cell_type": "markdown",
   "metadata": {},
   "source": [
    "Python differs from many languages in how **blocks** are delimited. Python does not use brackets or any special characters for blocks, instead it uses indentation."
   ]
  },
  {
   "cell_type": "markdown",
   "metadata": {},
   "source": [
    "A function is defined with the `def` keyword, then the name of the function, and then always parenthesis, even if it does not take any arguments. And any arguments are separated by commas inside of those parentheses. "
   ]
  },
  {
   "cell_type": "code",
   "execution_count": 22,
   "metadata": {},
   "outputs": [
    {
     "name": "stdout",
     "output_type": "stream",
     "text": [
      "Argon is NOT in liquid state!\n",
      "Argon is in liquid state!\n"
     ]
    }
   ],
   "source": [
    "def check_temperature(T):\n",
    "    '''\n",
    "    Checks if the argon is in liquid state\n",
    "    give a certain temperature T.\n",
    "    '''\n",
    "    T_c = 87 # K\n",
    "\n",
    "    if T > T_c:\n",
    "        print('Argon is NOT in liquid state!')\n",
    "    else:\n",
    "        print('Argon is in liquid state!')\n",
    "        \n",
    "check_temperature(88)\n",
    "check_temperature(86)"
   ]
  },
  {
   "cell_type": "code",
   "execution_count": 23,
   "metadata": {},
   "outputs": [
    {
     "name": "stdout",
     "output_type": "stream",
     "text": [
      "Help on function check_temperature in module __main__:\n",
      "\n",
      "check_temperature(T)\n",
      "    Checks if the argon is in liquid state\n",
      "    give a certain temperature T.\n",
      "\n"
     ]
    }
   ],
   "source": [
    "help(check_temperature)"
   ]
  },
  {
   "cell_type": "markdown",
   "metadata": {},
   "source": [
    "### Arguments"
   ]
  },
  {
   "cell_type": "code",
   "execution_count": 24,
   "metadata": {
    "jupyter": {
     "outputs_hidden": true
    }
   },
   "outputs": [],
   "source": [
    "def get_mass(particle_name):\n",
    "    try:\n",
    "        return par_to_mass[particle_name]\n",
    "    except:\n",
    "        print('Not found!')"
   ]
  },
  {
   "cell_type": "code",
   "execution_count": 25,
   "metadata": {},
   "outputs": [
    {
     "data": {
      "text/plain": [
       "124970.0"
      ]
     },
     "execution_count": 25,
     "metadata": {},
     "output_type": "execute_result"
    }
   ],
   "source": [
    "get_mass(particle_name='higgs')"
   ]
  },
  {
   "cell_type": "code",
   "execution_count": 26,
   "metadata": {},
   "outputs": [
    {
     "name": "stdout",
     "output_type": "stream",
     "text": [
      "124970.0\n"
     ]
    }
   ],
   "source": [
    "# EXCERCISE: Define get_mass(particle_name) function implementation in 1 line only\n",
    "# (hint: use dictionary \"get\" function, or 1 liner if statement)\n",
    "\n",
    "def get_mass(particle_name):\n",
    "    return par_to_mass.get(particle_name)\n",
    "\n",
    "print(get_mass('higgs'))"
   ]
  },
  {
   "cell_type": "markdown",
   "metadata": {},
   "source": [
    "### Argument List\n",
    "\n",
    "Python functions allow variable length argument lists.\n",
    "\n",
    "If you add an argument with an asterisk `*` before it (as done below with `*args`), this is a variable length argument list. It is a `tuple`.\n",
    "\n",
    "Below we check if it has non-zero length, and then we loop over the arguments.\n",
    "\n",
    "Note that we don't have to specify how many arguments or what kind of arguments we are passing. This feature is useful for situations where you want a function that may be called with different numbers of arguments."
   ]
  },
  {
   "cell_type": "code",
   "execution_count": 27,
   "metadata": {
    "jupyter": {
     "outputs_hidden": true
    }
   },
   "outputs": [],
   "source": [
    "def get_mass_2(*args):\n",
    "    if len(args):\n",
    "        for p in args:\n",
    "            try: \n",
    "                print(p, 'mass is', par_to_mass[p],'MeV/c^2')\n",
    "            except: \n",
    "                print(p, 'not found!')"
   ]
  },
  {
   "cell_type": "code",
   "execution_count": 28,
   "metadata": {},
   "outputs": [
    {
     "name": "stdout",
     "output_type": "stream",
     "text": [
      "higgs mass is 124970.0 MeV/c^2\n",
      "electron mass is 0.511 MeV/c^2\n"
     ]
    }
   ],
   "source": [
    "# EXCERCISE: Try calling the function above\n",
    "\n",
    "get_mass_2('higgs', 'electron')"
   ]
  },
  {
   "cell_type": "markdown",
   "metadata": {},
   "source": [
    "### Keyword Arguments\n",
    "\n",
    "Keyword arguments are like list arguments that are dictionaries instead of tuples. This allows functions to have a variable number of named arguments. "
   ]
  },
  {
   "cell_type": "code",
   "execution_count": 29,
   "metadata": {
    "jupyter": {
     "outputs_hidden": true
    }
   },
   "outputs": [],
   "source": [
    "def get_mass_3(**kwargs):\n",
    "    for k in kwargs:\n",
    "        print('Particle', k, 'has mass', kwargs[k])"
   ]
  },
  {
   "cell_type": "code",
   "execution_count": 30,
   "metadata": {},
   "outputs": [
    {
     "name": "stdout",
     "output_type": "stream",
     "text": [
      "Particle Higgs has mass 124970.0\n",
      "Particle Electron has mass 0.511\n"
     ]
    }
   ],
   "source": [
    "# EXCERICE: Try to get the mass of the Higgs by passing Higgs=124970.0 as argument\n",
    "get_mass_3(Higgs=124970.0, Electron=0.511)"
   ]
  },
  {
   "cell_type": "markdown",
   "metadata": {},
   "source": [
    "### Everything is an object\n",
    "A list can contain a mix of different types of variables. It can also contain a function!"
   ]
  },
  {
   "cell_type": "code",
   "execution_count": 31,
   "metadata": {
    "jupyter": {
     "outputs_hidden": true
    }
   },
   "outputs": [],
   "source": [
    "# Here it contains a string, a float, a dictionary, and a function!\n",
    "miscellaneous = ['neutrino', 2.2, par_to_mass, get_mass]"
   ]
  },
  {
   "cell_type": "code",
   "execution_count": 32,
   "metadata": {},
   "outputs": [
    {
     "data": {
      "text/plain": [
       "4180.0"
      ]
     },
     "execution_count": 32,
     "metadata": {},
     "output_type": "execute_result"
    }
   ],
   "source": [
    "miscellaneous[-1]('bottom')"
   ]
  },
  {
   "cell_type": "markdown",
   "metadata": {},
   "source": [
    "## Classes\n",
    "\n",
    "A class is the basis of all data in Python. \n",
    "\n",
    "Everything is an object in Python, and a class is how an object is defined.\n",
    "\n",
    "A class definition beginning with the keyword `class`, the name of the class, and a colon, and then everything that defines the class is indented under that declaration. \n",
    "\n",
    "Inside the clasee you can have data in the form of **variables**, and **methods** in the form of function definitions."
   ]
  },
  {
   "cell_type": "code",
   "execution_count": 33,
   "metadata": {
    "jupyter": {
     "outputs_hidden": true
    }
   },
   "outputs": [],
   "source": [
    "class Computer:\n",
    "    \n",
    "    _name = 'dell xps15'\n",
    "    _desktop = False\n",
    "    \n",
    "    def name(self):\n",
    "        print('I am ', self._name, '!', sep='')\n",
    "    \n",
    "    def is_desktop(self):\n",
    "        return self._desktop"
   ]
  },
  {
   "cell_type": "markdown",
   "metadata": {},
   "source": [
    "You'll notice that:\n",
    "- The first parameter of a method is always `self`. `self` is not a keyword. You can actually name that first parameter whatever you want to, but self is traditional and it is highly recommend that you use `self` so that as people are reading your code, they know what you're talking about. `self` is a reference to the object, not the class. And so, when an object is created from the class, `self` will reference that object. And then everything that references anything defined in the class is dereferenced off itself to get the instantiated object version of it. And the period operator is used to dereference the object. And the same is true outside of the class.\n",
    "- All class variables start with an underscore `_`. This is a convention to remember ourselves that those variables belong to the class. Python doesn't have private variables, and so there is no way to actually prevent somebody from using these from outside of the class. But this indicates that it is a private variable and it should not be set or retrieved outside of the a setter or getter.\n",
    "\n",
    "#### Next, we will create an instance of a class.  \n",
    "\n",
    "An instance of a class is called an object. It's creating by calling the class itself as if it were a function. "
   ]
  },
  {
   "cell_type": "code",
   "execution_count": 34,
   "metadata": {},
   "outputs": [
    {
     "name": "stdout",
     "output_type": "stream",
     "text": [
      "I am dell xps15!\n",
      "This is a laptop.\n"
     ]
    }
   ],
   "source": [
    "# EXCERCISE: Try to instantiate the class and call both class methods\n",
    "\n",
    "me = Computer()\n",
    "me.name()\n",
    "print('This is a desktop.' if me.is_desktop() else 'This is a laptop.')"
   ]
  },
  {
   "cell_type": "markdown",
   "metadata": {},
   "source": [
    "#### Class constructor  \n",
    "\n",
    "The class constructor allows us to **initialize** class member variables when we instantiate the class.\n",
    "\n",
    "The constructor can be defined in a special  class method name called `init`, with double underscores before and after: `__init__(self, var1, var2, ...)`."
   ]
  },
  {
   "cell_type": "code",
   "execution_count": 35,
   "metadata": {},
   "outputs": [
    {
     "name": "stdout",
     "output_type": "stream",
     "text": [
      "I am imac!\n"
     ]
    }
   ],
   "source": [
    "# EXCERCISE: Add a constructor to the Computer class where you initialize the two variables _name and _near_det\n",
    "\n",
    "class Computer:\n",
    "    \n",
    "    def __init__(self, name='dell xps15', desktop=False):\n",
    "        self._name = name\n",
    "        self._desktop = desktop\n",
    "    \n",
    "    def name(self):\n",
    "        print('I am ', self._name, '!', sep='')\n",
    "    \n",
    "    def is_desktop(self):\n",
    "        return self._desktop\n",
    "    \n",
    "me = Computer('imac', True)\n",
    "me.name()"
   ]
  },
  {
   "cell_type": "markdown",
   "metadata": {},
   "source": [
    "#### Let's print a class!\n",
    "\n",
    "The method `__str__` allows to tell the class how it should behave inside a `print()` function."
   ]
  },
  {
   "cell_type": "code",
   "execution_count": 36,
   "metadata": {},
   "outputs": [
    {
     "name": "stdout",
     "output_type": "stream",
     "text": [
      "Hi! I am imac, and I am a desktop. I have 8 CPUs.\n"
     ]
    }
   ],
   "source": [
    "# EXCERCISE: Try to add a the __str__ method and print some informaion from the Computer class, like this\n",
    "# def __str__(self):\n",
    "#     s = 'I am a desktop' if self._near_det else 'I am a laptop'\n",
    "#     return f'Hi! I am {self._name}, and ' + s\n",
    "# Also add a new method that returns the number of CPUs \n",
    "\n",
    "class Computer:\n",
    "    \n",
    "    def __init__(self, name='dell xps15', desktop=False):\n",
    "        self._name = name\n",
    "        self._desktop = desktop\n",
    "        self._n_cpus = 8\n",
    "    \n",
    "    def name(self):\n",
    "        print('I am ', self._name, '!', sep='')\n",
    "    \n",
    "    def is_desktop(self):\n",
    "        return self._desktop\n",
    "    \n",
    "    def n_cpus(self):\n",
    "        return self._n_cpus\n",
    "    \n",
    "    def __str__(self):\n",
    "        s = 'I am a desktop.' if self._desktop else 'I am a laptop.'\n",
    "        return f'Hi! I am {self._name}, and ' + s + f' I have {self.n_cpus()} CPUs.'\n",
    "\n",
    "me = Computer('imac', True)\n",
    "print(me)"
   ]
  },
  {
   "cell_type": "markdown",
   "metadata": {},
   "source": [
    "Here we looked at a couple of special methods: `init` and `str`.\n",
    "\n",
    "You can find a list of all the special method names in the [Python3 documentation](https://docs.python.org/3/reference/datamodel.html#basic-customization). \n",
    "\n",
    "Methods are the primary interface for classes and objects. They work exactly like functions, except they are bound to the object through their first argument, commonly named self."
   ]
  },
  {
   "cell_type": "markdown",
   "metadata": {},
   "source": [
    "### Class Inheritance\n",
    "\n",
    "Class inheritance is a fundamental part of object-oriented programming.\n",
    "\n",
    "This allows you to extend your classes by driving properties and methods from parent classes."
   ]
  },
  {
   "cell_type": "code",
   "execution_count": 37,
   "metadata": {},
   "outputs": [
    {
     "name": "stdout",
     "output_type": "stream",
     "text": [
      "Hi! I am imac, and I am a desktop. I have 16 CPUs.\n",
      "Hi! I am dell xps15, and I am a laptop. I have 8 CPUs.\n"
     ]
    }
   ],
   "source": [
    "class iMac(Computer):\n",
    "    def __init__(self):\n",
    "        self._name = 'imac'\n",
    "        self._desktop = True \n",
    "        self._n_cpus = 16\n",
    "\n",
    "s = iMac()\n",
    "print(s)\n",
    "\n",
    " \n",
    "class XPS15(Computer):\n",
    "    def __init__(self):\n",
    "        super().__init__()\n",
    "\n",
    "i = XPS15()\n",
    "print(i)"
   ]
  },
  {
   "cell_type": "markdown",
   "metadata": {},
   "source": [
    "The `super()` function above allows to call the parent class (`Computer`). `super().__init__()` calls the constructor of the `Computer` class."
   ]
  },
  {
   "cell_type": "code",
   "execution_count": 38,
   "metadata": {},
   "outputs": [
    {
     "name": "stdout",
     "output_type": "stream",
     "text": [
      "Hi! I am imac, and I am a desktop. I have 16 CPUs.\n",
      "Hi! I am dell xps15, and I am a laptop. I have 8 CPUs and 1 GPUs.\n"
     ]
    }
   ],
   "source": [
    "# EXCERCISE: (my) xps15 has also 1 GPU. Extend the XPS15 class to also return the number of GPUs\n",
    "\n",
    "class XPS15(Computer):\n",
    "    def __init__(self):\n",
    "        super().__init__('dell xps15',False)\n",
    "        self._n_gpus = 1\n",
    "    \n",
    "    def n_gpus(self):\n",
    "        return self._n_gpus\n",
    "    \n",
    "    def __str__(self):\n",
    "        s = 'I am a desktop.' if self._desktop else 'I am a laptop.'\n",
    "        return f'Hi! I am {self._name}, and ' + s + f' I have {self.n_cpus()} CPUs and {self._n_gpus} GPUs.'\n",
    "\n",
    "s = iMac()\n",
    "print(s)\n",
    "\n",
    "i = XPS15()\n",
    "print(i)\n"
   ]
  },
  {
   "cell_type": "markdown",
   "metadata": {},
   "source": [
    "### Application: a variable collections\n",
    "In C++, for quick encapsulation, we often use a _struct_ container. A hacky but handy way of achieving something similar in Python is to define an empty class, and dyncamically attach attributes."
   ]
  },
  {
   "cell_type": "code",
   "execution_count": 39,
   "metadata": {},
   "outputs": [],
   "source": [
    "class BLOB:\n",
    "    pass\n",
    "\n",
    "blob=BLOB()\n",
    "blob.data   = XPS15()\n",
    "blob.number = 2"
   ]
  },
  {
   "cell_type": "markdown",
   "metadata": {},
   "source": [
    "#### `hasattr` and `getattr`\n",
    "Since this blob object is dynamic, you might want a capability to check, when given a blob object, a certain attribute exists or not. Python has a handy built-in functions `hasattr` and `getattr` (\"attr\" stands for \"attributes\")."
   ]
  },
  {
   "cell_type": "code",
   "execution_count": 40,
   "metadata": {},
   "outputs": [
    {
     "name": "stdout",
     "output_type": "stream",
     "text": [
      "does it have \"tracy\"? False\n",
      "\n",
      "__str__ of tracy... no it does not exist\n",
      "\n",
      "does it have \"data\"? True\n",
      "\n",
      "__str__ of data... Hi! I am dell xps15, and I am a laptop. I have 8 CPUs and 1 GPUs.\n"
     ]
    }
   ],
   "source": [
    "print('does it have \"tracy\"?', hasattr(blob, \"tracy\") )\n",
    "print('\\n__str__ of tracy...', getattr(blob,\"tracy\", 'no it does not exist'))\n",
    "print('\\ndoes it have \"data\"?', hasattr(blob, \"data\" ) )\n",
    "print('\\n__str__ of data...', getattr(blob, \"data\", 'no it does not exist'))"
   ]
  },
  {
   "cell_type": "markdown",
   "metadata": {},
   "source": [
    "### Application: an iteratable class"
   ]
  },
  {
   "cell_type": "markdown",
   "metadata": {},
   "source": [
    "An array-like data container in which individual data element can be accessed by an index (i.e. \"[]\") or iterate over would be very handy. Such a structure also helps to generalize a design of data streaming tools. We practice to design such a Python class below. \n",
    "\n",
    "First, let's define a iterable container. For an iteration in Python, you need two built-in functions: a _len_ which returns the \"length of array-like data\" and _getitem_ which arrows a random-access operator (i.e. \"[ ]\"). "
   ]
  },
  {
   "cell_type": "code",
   "execution_count": 41,
   "metadata": {},
   "outputs": [],
   "source": [
    "class dataset:\n",
    "    \n",
    "    def __init__(self):\n",
    "        self._data = tuple(range(100))\n",
    "        \n",
    "    def __len__(self):\n",
    "        return len(self._data)\n",
    "    \n",
    "    def __getitem__(self,index):\n",
    "        return self._data[index]"
   ]
  },
  {
   "cell_type": "markdown",
   "metadata": {},
   "source": [
    "The above example class `dataset` constructs a simple data, an array of length 100 filled with numbers 0 to 99. The length of the dataset is accordingly 100, and the random access operator returns the corresponding index entry of the array."
   ]
  },
  {
   "cell_type": "code",
   "execution_count": 42,
   "metadata": {},
   "outputs": [
    {
     "name": "stdout",
     "output_type": "stream",
     "text": [
      "Length: 100\n",
      "10th element: 10\n"
     ]
    }
   ],
   "source": [
    "data = dataset()\n",
    "print('Length:',len(data))\n",
    "print('10th element:',data[10])"
   ]
  },
  {
   "cell_type": "markdown",
   "metadata": {},
   "source": [
    "You can also slice this data object"
   ]
  },
  {
   "cell_type": "code",
   "execution_count": 43,
   "metadata": {},
   "outputs": [
    {
     "data": {
      "text/plain": [
       "(10, 11, 12, 13, 14, 15, 16, 17, 18, 19)"
      ]
     },
     "execution_count": 43,
     "metadata": {},
     "output_type": "execute_result"
    }
   ],
   "source": [
    "data[10:20]"
   ]
  },
  {
   "cell_type": "markdown",
   "metadata": {},
   "source": [
    "Here's how you can create an iterator for an iterable object using _iter_ built-in function."
   ]
  },
  {
   "cell_type": "code",
   "execution_count": 44,
   "metadata": {},
   "outputs": [
    {
     "data": {
      "text/plain": [
       "<iterator at 0x7fb06042bfd0>"
      ]
     },
     "execution_count": 44,
     "metadata": {},
     "output_type": "execute_result"
    }
   ],
   "source": [
    "iter(data)"
   ]
  },
  {
   "cell_type": "markdown",
   "metadata": {},
   "source": [
    "You can move the iterator to the next object using the _next_ built-in function. "
   ]
  },
  {
   "cell_type": "code",
   "execution_count": 45,
   "metadata": {},
   "outputs": [
    {
     "name": "stdout",
     "output_type": "stream",
     "text": [
      "0 1 2\n"
     ]
    }
   ],
   "source": [
    "it = iter(data)\n",
    "print(next(it), next(it), next(it))"
   ]
  },
  {
   "cell_type": "markdown",
   "metadata": {},
   "source": [
    "## List Comprehensions \n",
    "\n",
    "List comprehensions are one of Python's most beloved and unique features. The easiest way to understand them is probably to just look at a an example. \n",
    "\n",
    "Let's assume we want to calculate all the squarer of the numbers between 0 and 9. With a `for` loop we would do:"
   ]
  },
  {
   "cell_type": "code",
   "execution_count": 46,
   "metadata": {},
   "outputs": [
    {
     "data": {
      "text/plain": [
       "[0, 1, 4, 9, 16, 25, 36, 49, 64, 81]"
      ]
     },
     "execution_count": 46,
     "metadata": {},
     "output_type": "execute_result"
    }
   ],
   "source": [
    "squares = []\n",
    "for n in range(10):\n",
    "    squares.append(n**2)\n",
    "squares"
   ]
  },
  {
   "cell_type": "markdown",
   "metadata": {},
   "source": [
    "Instead, with list comprehension we can just do:"
   ]
  },
  {
   "cell_type": "code",
   "execution_count": 47,
   "metadata": {},
   "outputs": [
    {
     "data": {
      "text/plain": [
       "[0, 1, 4, 9, 16, 25, 36, 49, 64, 81]"
      ]
     },
     "execution_count": 47,
     "metadata": {},
     "output_type": "execute_result"
    }
   ],
   "source": [
    "squares = [n**2 for n in range(10)]\n",
    "squares"
   ]
  },
  {
   "cell_type": "code",
   "execution_count": 48,
   "metadata": {},
   "outputs": [
    {
     "name": "stdout",
     "output_type": "stream",
     "text": [
      "255 µs ± 6.83 µs per loop (mean ± std. dev. of 7 runs, 1000 loops each)\n",
      "200 µs ± 2.37 µs per loop (mean ± std. dev. of 7 runs, 1000 loops each)\n"
     ]
    }
   ],
   "source": [
    "squares = []\n",
    "%timeit for n in range(1000): squares.append(n**2)\n",
    "%timeit squares = [n**2 for n in range(1000)]"
   ]
  },
  {
   "cell_type": "code",
   "execution_count": 49,
   "metadata": {
    "jupyter": {
     "outputs_hidden": true
    }
   },
   "outputs": [],
   "source": [
    "particles = ['up', 'down', 'electron', 'electron_neutrino',\n",
    "             'charm', 'strange', 'muon', 'muon_neutrino', \n",
    "             'top', 'bottom', 'tau', 'tau_neutrino',\n",
    "             'gluon', 'photon', 'z', 'w',\n",
    "             'higgs']"
   ]
  },
  {
   "cell_type": "code",
   "execution_count": 50,
   "metadata": {},
   "outputs": [
    {
     "data": {
      "text/plain": [
       "['up', 'down', 'charm', 'muon', 'top', 'tau', 'gluon', 'z', 'w', 'higgs']"
      ]
     },
     "execution_count": 50,
     "metadata": {},
     "output_type": "execute_result"
    }
   ],
   "source": [
    "short_particles = [particle for particle in particles if len(particle) < 6]\n",
    "short_particles"
   ]
  },
  {
   "cell_type": "code",
   "execution_count": 51,
   "metadata": {},
   "outputs": [
    {
     "data": {
      "text/plain": [
       "['anti_up',\n",
       " 'anti_down',\n",
       " 'anti_electron',\n",
       " 'anti_electron_neutrino',\n",
       " 'anti_charm',\n",
       " 'anti_strange',\n",
       " 'anti_muon',\n",
       " 'anti_muon_neutrino',\n",
       " 'anti_top',\n",
       " 'anti_bottom',\n",
       " 'anti_tau',\n",
       " 'anti_tau_neutrino',\n",
       " 'anti_gluon',\n",
       " 'anti_photon',\n",
       " 'anti_z',\n",
       " 'anti_w',\n",
       " 'anti_higgs']"
      ]
     },
     "execution_count": 51,
     "metadata": {},
     "output_type": "execute_result"
    }
   ],
   "source": [
    "# EXCERCISE:\n",
    "# Get a list of antiparticles\n",
    "\n",
    "antiparticles = ['anti_' + particle for particle in particles]\n",
    "antiparticles"
   ]
  },
  {
   "cell_type": "code",
   "execution_count": 52,
   "metadata": {},
   "outputs": [
    {
     "data": {
      "text/plain": [
       "['Down',\n",
       " 'Electron',\n",
       " 'Electron_neutrino',\n",
       " 'Muon',\n",
       " 'Muon_neutrino',\n",
       " 'Top',\n",
       " 'Bottom',\n",
       " 'Tau_neutrino',\n",
       " 'Gluon',\n",
       " 'Photon']"
      ]
     },
     "execution_count": 52,
     "metadata": {},
     "output_type": "execute_result"
    }
   ],
   "source": [
    "# EXCERCISE:\n",
    "# Get all the particles that contain character 'o', and capitalize them.\n",
    "\n",
    "selected = [particle.capitalize() for particle in particles if 'o' in particle]\n",
    "selected"
   ]
  },
  {
   "cell_type": "markdown",
   "metadata": {},
   "source": [
    "## Dict Comprehensions\n",
    "\n",
    "Dict comprehensions expands the idea of a list comprehension but for python dictionaries!\n",
    "\n",
    "Lets create a dictionary of the squares of numbers 0 through 9 inclusive, could write a loop like this:"
   ]
  },
  {
   "cell_type": "code",
   "execution_count": 53,
   "metadata": {},
   "outputs": [
    {
     "data": {
      "text/plain": [
       "{0: 0, 1: 1, 2: 4, 3: 9, 4: 16, 5: 25, 6: 36, 7: 49, 8: 64, 9: 81}"
      ]
     },
     "execution_count": 53,
     "metadata": {},
     "output_type": "execute_result"
    }
   ],
   "source": [
    "squares = {}\n",
    "for n in range(10):\n",
    "    squares[n] = n**2\n",
    "squares"
   ]
  },
  {
   "cell_type": "markdown",
   "metadata": {},
   "source": [
    "Or we can write it as a dict comprehension as follows (note the special syntax \"key: value\" to assign the key and value of the dict)"
   ]
  },
  {
   "cell_type": "code",
   "execution_count": 54,
   "metadata": {},
   "outputs": [
    {
     "data": {
      "text/plain": [
       "{0: 0, 1: 1, 2: 4, 3: 9, 4: 16, 5: 25, 6: 36, 7: 49, 8: 64, 9: 81}"
      ]
     },
     "execution_count": 54,
     "metadata": {},
     "output_type": "execute_result"
    }
   ],
   "source": [
    "squares = { n: n**2 for n in range(10) }\n",
    "squares"
   ]
  },
  {
   "cell_type": "markdown",
   "metadata": {},
   "source": [
    "Lets do a speed test again, it's not as fast as list comprehensions tho...:"
   ]
  },
  {
   "cell_type": "code",
   "execution_count": 55,
   "metadata": {},
   "outputs": [
    {
     "name": "stdout",
     "output_type": "stream",
     "text": [
      "241 µs ± 1.82 µs per loop (mean ± std. dev. of 7 runs, 1000 loops each)\n",
      "222 µs ± 1.43 µs per loop (mean ± std. dev. of 7 runs, 1000 loops each)\n"
     ]
    }
   ],
   "source": [
    "squares = {}\n",
    "%timeit for n in range(1000): squares[n] = n**2\n",
    "%timeit squares = { n: n**2 for n in range(1000) }"
   ]
  },
  {
   "cell_type": "markdown",
   "metadata": {},
   "source": [
    "So why should I bother you may ask! But we do can a lot more... say we wanted only the even numbers to be squared:"
   ]
  },
  {
   "cell_type": "code",
   "execution_count": 56,
   "metadata": {},
   "outputs": [
    {
     "data": {
      "text/plain": [
       "{0: 0, 2: 4, 4: 16, 6: 36, 8: 64}"
      ]
     },
     "execution_count": 56,
     "metadata": {},
     "output_type": "execute_result"
    }
   ],
   "source": [
    "squares = { n: n**2 for n in range(10) if n%2 == 0}\n",
    "squares"
   ]
  },
  {
   "cell_type": "markdown",
   "metadata": {},
   "source": [
    "or if we just want to do a simple count of each entry in a list:"
   ]
  },
  {
   "cell_type": "code",
   "execution_count": 57,
   "metadata": {},
   "outputs": [],
   "source": [
    "particles = ['positron', 'electron', 'electron', 'positron', 'electron', 'positron', 'electron', 'electron', 'electron', 'positron', 'electron', 'positron']"
   ]
  },
  {
   "cell_type": "code",
   "execution_count": 58,
   "metadata": {},
   "outputs": [
    {
     "data": {
      "text/plain": [
       "{'positron': 5, 'electron': 7}"
      ]
     },
     "execution_count": 58,
     "metadata": {},
     "output_type": "execute_result"
    }
   ],
   "source": [
    "counts = { k: particles.count(k) for k in particles }\n",
    "counts"
   ]
  },
  {
   "cell_type": "markdown",
   "metadata": {},
   "source": [
    "## Defining your module\n",
    "Now that we know all basics, let's come back to defining our own module that can be loaded through `import`!\n",
    "\n",
    "There are two ways to do this: a module can be deifned within a single script OR within a directory with multiple scripts. Let's practice both cases.\n",
    "\n",
    "### A script as a module\n",
    "You can import a script with `.py` suffix as a module. In this same directory, we prepared `DanielRatner.py`. It has a minimal content (unlike real Daniel who is full of features)."
   ]
  },
  {
   "cell_type": "code",
   "execution_count": 59,
   "metadata": {},
   "outputs": [
    {
     "name": "stdout",
     "output_type": "stream",
     "text": [
      "age=20\n",
      "trend='machine learning initiative lead at SLAC'\n",
      "\n"
     ]
    }
   ],
   "source": [
    "print(open('DanielRatner.py','r').read())"
   ]
  },
  {
   "cell_type": "markdown",
   "metadata": {},
   "source": [
    "We can import `DanielRatner` as a module, and access attributes under this."
   ]
  },
  {
   "cell_type": "code",
   "execution_count": 60,
   "metadata": {},
   "outputs": [
    {
     "name": "stdout",
     "output_type": "stream",
     "text": [
      "age: 20\n"
     ]
    }
   ],
   "source": [
    "import DanielRatner\n",
    "print('age:',DanielRatner.age)"
   ]
  },
  {
   "cell_type": "markdown",
   "metadata": {},
   "source": [
    "We can also import a specific attribute from the module."
   ]
  },
  {
   "cell_type": "code",
   "execution_count": 61,
   "metadata": {},
   "outputs": [
    {
     "name": "stdout",
     "output_type": "stream",
     "text": [
      "trend: machine learning initiative lead at SLAC\n"
     ]
    }
   ],
   "source": [
    "from DanielRatner import trend\n",
    "print('trend:',trend)"
   ]
  },
  {
   "cell_type": "markdown",
   "metadata": {},
   "source": [
    "### A directory as a module\n",
    "As you go down the path, you might end up defining 100 useful functions, and maybe group them into multiple python scripts, yet you may want to group them into one module. You can then define a whole directory containing multiple Python script as a module. \n",
    "\n",
    "We prepare another example to exercise importing a whole directory as a module.\n",
    "The directory name is called `RealDanielRatner` and contains three python scripts.\n",
    "\n",
    "- `__init__.py` ... signifies to Python that this directory should be treated as a module. Define what attributes to be available within the module.\n",
    "- `age.py` ... first module that contains Daniel's real age\n",
    "- `favorite.py` ... second module that contains Daniel's favorite\n",
    "- `trend.py` ... third module that contains Daniel's real trend\n",
    "\n"
   ]
  },
  {
   "cell_type": "code",
   "execution_count": 62,
   "metadata": {},
   "outputs": [
    {
     "name": "stdout",
     "output_type": "stream",
     "text": [
      "__init__.py  age.py  favorite.py  trend.py\r\n"
     ]
    }
   ],
   "source": [
    "! ls RealDanielRatner"
   ]
  },
  {
   "cell_type": "markdown",
   "metadata": {},
   "source": [
    "The contents of `__init__.py` defines what should be available under `RealDanielRatner` module."
   ]
  },
  {
   "cell_type": "code",
   "execution_count": 63,
   "metadata": {},
   "outputs": [
    {
     "name": "stdout",
     "output_type": "stream",
     "text": [
      "from .age import age\n",
      "from .trend import trend\n",
      "\n"
     ]
    }
   ],
   "source": [
    "print(open('RealDanielRatner/__init__.py','r').read())"
   ]
  },
  {
   "cell_type": "markdown",
   "metadata": {},
   "source": [
    "The rest of scripts contain just 1 line information about Daniel."
   ]
  },
  {
   "cell_type": "code",
   "execution_count": 64,
   "metadata": {},
   "outputs": [
    {
     "name": "stdout",
     "output_type": "stream",
     "text": [
      "age=40\n",
      "\n",
      "favorite='ski conference'\n",
      "\n",
      "trend='Loving, caring, and changing a diaper for his baby'\n",
      "\n"
     ]
    }
   ],
   "source": [
    "print(open('RealDanielRatner/age.py','r').read())\n",
    "print(open('RealDanielRatner/favorite.py','r').read())\n",
    "print(open('RealDanielRatner/trend.py','r').read())"
   ]
  },
  {
   "cell_type": "markdown",
   "metadata": {},
   "source": [
    "Now let's import `RealDanielRatner`."
   ]
  },
  {
   "cell_type": "code",
   "execution_count": 65,
   "metadata": {},
   "outputs": [
    {
     "name": "stdout",
     "output_type": "stream",
     "text": [
      "Help on package RealDanielRatner:\n",
      "\n",
      "NAME\n",
      "    RealDanielRatner\n",
      "\n",
      "PACKAGE CONTENTS\n",
      "    age\n",
      "    favorite\n",
      "    trend\n",
      "\n",
      "DATA\n",
      "    age = 40\n",
      "    trend = 'Loving, caring, and changing a diaper for his baby'\n",
      "\n",
      "FILE\n",
      "    /home/drinkingkazu/sw/slacml-kmi2020/Prerequisites/RealDanielRatner/__init__.py\n",
      "\n",
      "\n"
     ]
    }
   ],
   "source": [
    "import RealDanielRatner\n",
    "help(RealDanielRatner)"
   ]
  },
  {
   "cell_type": "markdown",
   "metadata": {},
   "source": [
    "Note that `age` and `trend` are available in `DATA` field and can be accessed directly."
   ]
  },
  {
   "cell_type": "code",
   "execution_count": 66,
   "metadata": {},
   "outputs": [
    {
     "name": "stdout",
     "output_type": "stream",
     "text": [
      "age: 40\n",
      "trend: Loving, caring, and changing a diaper for his baby\n"
     ]
    }
   ],
   "source": [
    "print('age:',RealDanielRatner.age)\n",
    "print('trend:',RealDanielRatner.trend)"
   ]
  },
  {
   "cell_type": "markdown",
   "metadata": {},
   "source": [
    "... but not `favorite` which is recognized as a module under `RealDanielRatner`."
   ]
  },
  {
   "cell_type": "code",
   "execution_count": 67,
   "metadata": {},
   "outputs": [
    {
     "data": {
      "text/plain": [
       "False"
      ]
     },
     "execution_count": 67,
     "metadata": {},
     "output_type": "execute_result"
    }
   ],
   "source": [
    "hasattr(RealDanielRatner,'favorite')"
   ]
  },
  {
   "cell_type": "markdown",
   "metadata": {},
   "source": [
    "This is because `__init__.py`, which defines `RealDanielRatner` module from the whole directory, did not include a syntax to `import favorite`. Here is the content of `__init__.py`."
   ]
  },
  {
   "cell_type": "code",
   "execution_count": 68,
   "metadata": {},
   "outputs": [
    {
     "name": "stdout",
     "output_type": "stream",
     "text": [
      "from .age import age\r\n",
      "from .trend import trend\r\n"
     ]
    }
   ],
   "source": [
    "! cat RealDanielRatner/__init__.py"
   ]
  },
  {
   "cell_type": "markdown",
   "metadata": {},
   "source": [
    "But you can certainly `from RealDanielRatner import favorite`, which would mean to load `favorite` module from `RealDanielRatner` (=directory)."
   ]
  },
  {
   "cell_type": "code",
   "execution_count": 69,
   "metadata": {},
   "outputs": [
    {
     "name": "stdout",
     "output_type": "stream",
     "text": [
      "favorite: ski conference\n"
     ]
    }
   ],
   "source": [
    "from RealDanielRatner import favorite\n",
    "print('favorite:',favorite.favorite)"
   ]
  },
  {
   "cell_type": "markdown",
   "metadata": {},
   "source": [
    "### Renaming a module\n",
    "Finally, `RealDanielRatner` is ... too long, right? You can rename the module upon import:"
   ]
  },
  {
   "cell_type": "code",
   "execution_count": 70,
   "metadata": {},
   "outputs": [
    {
     "name": "stdout",
     "output_type": "stream",
     "text": [
      "Daniels age is 40 and his trend: Loving, caring, and changing a diaper for his baby\n"
     ]
    }
   ],
   "source": [
    "import RealDanielRatner as dan\n",
    "print('Daniels age is',dan.age,'and his trend:',dan.trend)"
   ]
  },
  {
   "cell_type": "markdown",
   "metadata": {},
   "source": [
    "### Where are the module source?\n",
    "So we just demonstrated that we could import `DanielRatner` from the `DanielRatner.py` in the same directory. But would the same work if `DanielRatner.py` is somewhere else? Where does `import` syntax looks up the location of the source modules?\n",
    "\n",
    "The answer is your current directory and a list of paths in `sys.path`"
   ]
  },
  {
   "cell_type": "code",
   "execution_count": 71,
   "metadata": {},
   "outputs": [
    {
     "data": {
      "text/plain": [
       "['/app/larcv2/python',\n",
       " '/app/geant4/lib',\n",
       " '/app/root/lib',\n",
       " '/usr/local/root/lib',\n",
       " '/home/drinkingkazu/sw/slacml-kmi2020/Prerequisites',\n",
       " '/usr/lib/python36.zip',\n",
       " '/usr/lib/python3.6',\n",
       " '/usr/lib/python3.6/lib-dynload',\n",
       " '',\n",
       " '/home/drinkingkazu/.local/lib/python3.6/site-packages',\n",
       " '/usr/local/lib/python3.6/dist-packages',\n",
       " '/usr/lib/python3/dist-packages',\n",
       " '/usr/local/lib/python3.6/dist-packages/IPython/extensions',\n",
       " '/home/drinkingkazu/.ipython']"
      ]
     },
     "execution_count": 71,
     "metadata": {},
     "output_type": "execute_result"
    }
   ],
   "source": [
    "import sys\n",
    "sys.path"
   ]
  },
  {
   "cell_type": "markdown",
   "metadata": {},
   "source": [
    "If you wonder where an imported module came from, you can look up a `__file__` attribute where it is available. For instance,"
   ]
  },
  {
   "cell_type": "code",
   "execution_count": 72,
   "metadata": {},
   "outputs": [
    {
     "name": "stdout",
     "output_type": "stream",
     "text": [
      "/usr/lib/python3.6/platform.py\n"
     ]
    }
   ],
   "source": [
    "print(platform.__file__)"
   ]
  },
  {
   "cell_type": "markdown",
   "metadata": {},
   "source": [
    "... which tells you where the `platform` module we imporeted first in this notebook is defined."
   ]
  },
  {
   "cell_type": "markdown",
   "metadata": {},
   "source": [
    "## Conclusions\n",
    "\n",
    "And now, just for fun, let's import this."
   ]
  },
  {
   "cell_type": "code",
   "execution_count": 73,
   "metadata": {},
   "outputs": [
    {
     "name": "stdout",
     "output_type": "stream",
     "text": [
      "The Zen of Python, by Tim Peters\n",
      "\n",
      "Beautiful is better than ugly.\n",
      "Explicit is better than implicit.\n",
      "Simple is better than complex.\n",
      "Complex is better than complicated.\n",
      "Flat is better than nested.\n",
      "Sparse is better than dense.\n",
      "Readability counts.\n",
      "Special cases aren't special enough to break the rules.\n",
      "Although practicality beats purity.\n",
      "Errors should never pass silently.\n",
      "Unless explicitly silenced.\n",
      "In the face of ambiguity, refuse the temptation to guess.\n",
      "There should be one-- and preferably only one --obvious way to do it.\n",
      "Although that way may not be obvious at first unless you're Dutch.\n",
      "Now is better than never.\n",
      "Although never is often better than *right* now.\n",
      "If the implementation is hard to explain, it's a bad idea.\n",
      "If the implementation is easy to explain, it may be a good idea.\n",
      "Namespaces are one honking great idea -- let's do more of those!\n"
     ]
    }
   ],
   "source": [
    "import this "
   ]
  }
 ],
 "metadata": {
  "kernelspec": {
   "display_name": "Python 3",
   "language": "python",
   "name": "python3"
  },
  "language_info": {
   "codemirror_mode": {
    "name": "ipython",
    "version": 3
   },
   "file_extension": ".py",
   "mimetype": "text/x-python",
   "name": "python",
   "nbconvert_exporter": "python",
   "pygments_lexer": "ipython3",
   "version": "3.6.9"
  }
 },
 "nbformat": 4,
 "nbformat_minor": 4
}
